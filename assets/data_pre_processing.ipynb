{
 "cells": [
  {
   "cell_type": "code",
   "execution_count": 181,
   "id": "USqKvOm7k96T",
   "metadata": {
    "id": "USqKvOm7k96T"
   },
   "outputs": [],
   "source": [
    "!pip install -qU geopandas"
   ]
  },
  {
   "cell_type": "markdown",
   "id": "Qv37HANkqFaL",
   "metadata": {
    "id": "Qv37HANkqFaL"
   },
   "source": [
    "# Load libraries"
   ]
  },
  {
   "cell_type": "code",
   "execution_count": 183,
   "id": "7f8f6b7d",
   "metadata": {
    "id": "7f8f6b7d"
   },
   "outputs": [],
   "source": [
    "import numpy as np\n",
    "import pandas as pd\n",
    "import geopandas as gpd\n",
    "from google.colab import drive"
   ]
  },
  {
   "cell_type": "code",
   "execution_count": 187,
   "id": "_x4tvbvKpd2x",
   "metadata": {
    "colab": {
     "base_uri": "https://localhost:8080/"
    },
    "id": "_x4tvbvKpd2x",
    "outputId": "ff87fe04-59e4-4d8e-930a-94f5a8b659db"
   },
   "outputs": [
    {
     "name": "stdout",
     "output_type": "stream",
     "text": [
      "Drive already mounted at /content/drive; to attempt to forcibly remount, call drive.mount(\"/content/drive\", force_remount=True).\n"
     ]
    }
   ],
   "source": [
    "drive.mount('/content/drive')"
   ]
  },
  {
   "cell_type": "markdown",
   "id": "6wm1oG6EqIiE",
   "metadata": {
    "id": "6wm1oG6EqIiE"
   },
   "source": [
    "Set with the location of the .csv file and the filename."
   ]
  },
  {
   "cell_type": "code",
   "execution_count": 188,
   "id": "fb330faa",
   "metadata": {
    "id": "fb330faa"
   },
   "outputs": [],
   "source": [
    "#DIR = './2013_2022/All Incidents/All_Incidents_2013_2022_DINS/'\n",
    "#DIR = '/content/drive/MyDrive/RelativeRisk_Analysis/data/'\n",
    "DIR = '/content/drive/MyDrive/Risk_Analysis_DINS/data/'\n",
    "filename = 'dins_2017_2022.csv'"
   ]
  },
  {
   "cell_type": "code",
   "execution_count": 189,
   "id": "0f34c78a",
   "metadata": {
    "id": "0f34c78a"
   },
   "outputs": [],
   "source": [
    "df = pd.read_csv(DIR + filename)"
   ]
  },
  {
   "cell_type": "markdown",
   "id": "68e28114",
   "metadata": {
    "id": "68e28114"
   },
   "source": [
    "# Description"
   ]
  },
  {
   "cell_type": "code",
   "execution_count": 190,
   "id": "33745944",
   "metadata": {
    "colab": {
     "base_uri": "https://localhost:8080/",
     "height": 399
    },
    "id": "33745944",
    "outputId": "d3a58077-be28-4045-fd05-78454a60efc1"
   },
   "outputs": [
    {
     "data": {
      "text/html": [
       "\n",
       "  <div id=\"df-5b343983-a2f0-42f2-a504-54f4145359a5\" class=\"colab-df-container\">\n",
       "    <div>\n",
       "<style scoped>\n",
       "    .dataframe tbody tr th:only-of-type {\n",
       "        vertical-align: middle;\n",
       "    }\n",
       "\n",
       "    .dataframe tbody tr th {\n",
       "        vertical-align: top;\n",
       "    }\n",
       "\n",
       "    .dataframe thead th {\n",
       "        text-align: right;\n",
       "    }\n",
       "</style>\n",
       "<table border=\"1\" class=\"dataframe\">\n",
       "  <thead>\n",
       "    <tr style=\"text-align: right;\">\n",
       "      <th></th>\n",
       "      <th>DAMAGE</th>\n",
       "      <th>ROOFCONSTRUCTION</th>\n",
       "      <th>EAVES</th>\n",
       "      <th>VENTSCREEN</th>\n",
       "      <th>EXTERIORSIDING</th>\n",
       "      <th>WINDOWPANE</th>\n",
       "      <th>DECKPORCHONGRADE</th>\n",
       "      <th>DECKPORCHELEVATED</th>\n",
       "      <th>PATIOCOVER</th>\n",
       "      <th>FENCE</th>\n",
       "      <th>YEARBUILT</th>\n",
       "      <th>LATITUDE</th>\n",
       "      <th>LONGITUDE</th>\n",
       "      <th>distance_meter</th>\n",
       "      <th>DISTANCE</th>\n",
       "    </tr>\n",
       "  </thead>\n",
       "  <tbody>\n",
       "    <tr>\n",
       "      <th>0</th>\n",
       "      <td>Destroyed (&gt;50%)</td>\n",
       "      <td>Asphalt</td>\n",
       "      <td>Enclosed</td>\n",
       "      <td>Mesh Screen &lt;= 1/8\"</td>\n",
       "      <td>Combustible</td>\n",
       "      <td>Multi Pane</td>\n",
       "      <td>Composite</td>\n",
       "      <td>No Deck/Porch</td>\n",
       "      <td>Combustible</td>\n",
       "      <td>Combustible</td>\n",
       "      <td>1953</td>\n",
       "      <td>39.773030</td>\n",
       "      <td>-121.578383</td>\n",
       "      <td>52.432312</td>\n",
       "      <td>172.022027</td>\n",
       "    </tr>\n",
       "    <tr>\n",
       "      <th>1</th>\n",
       "      <td>Destroyed (&gt;50%)</td>\n",
       "      <td>Asphalt</td>\n",
       "      <td>Enclosed</td>\n",
       "      <td>Mesh Screen &lt;= 1/8\"</td>\n",
       "      <td>Combustible</td>\n",
       "      <td>Multi Pane</td>\n",
       "      <td>Composite</td>\n",
       "      <td>No Deck/Porch</td>\n",
       "      <td>Combustible</td>\n",
       "      <td>Non Combustible</td>\n",
       "      <td>1973</td>\n",
       "      <td>39.781616</td>\n",
       "      <td>-121.607243</td>\n",
       "      <td>41.718953</td>\n",
       "      <td>136.873208</td>\n",
       "    </tr>\n",
       "    <tr>\n",
       "      <th>2</th>\n",
       "      <td>Destroyed (&gt;50%)</td>\n",
       "      <td>Asphalt</td>\n",
       "      <td>Enclosed</td>\n",
       "      <td>Mesh Screen &lt;= 1/8\"</td>\n",
       "      <td>Combustible</td>\n",
       "      <td>Multi Pane</td>\n",
       "      <td>Composite</td>\n",
       "      <td>Wood</td>\n",
       "      <td>No Patio Cover/Carport</td>\n",
       "      <td>Non Combustible</td>\n",
       "      <td>1974</td>\n",
       "      <td>39.780287</td>\n",
       "      <td>-121.585203</td>\n",
       "      <td>36.386770</td>\n",
       "      <td>119.379170</td>\n",
       "    </tr>\n",
       "    <tr>\n",
       "      <th>3</th>\n",
       "      <td>Affected (1-9%)</td>\n",
       "      <td>Asphalt</td>\n",
       "      <td>Enclosed</td>\n",
       "      <td>Mesh Screen &lt;= 1/8\"</td>\n",
       "      <td>Combustible</td>\n",
       "      <td>Multi Pane</td>\n",
       "      <td>Composite</td>\n",
       "      <td>No Deck/Porch</td>\n",
       "      <td>No Patio Cover/Carport</td>\n",
       "      <td>Non Combustible</td>\n",
       "      <td>1979</td>\n",
       "      <td>39.734655</td>\n",
       "      <td>-121.571064</td>\n",
       "      <td>90.943286</td>\n",
       "      <td>298.370371</td>\n",
       "    </tr>\n",
       "    <tr>\n",
       "      <th>4</th>\n",
       "      <td>Affected (1-9%)</td>\n",
       "      <td>Asphalt</td>\n",
       "      <td>Enclosed</td>\n",
       "      <td>Mesh Screen &lt;= 1/8\"</td>\n",
       "      <td>Combustible</td>\n",
       "      <td>Multi Pane</td>\n",
       "      <td>Composite</td>\n",
       "      <td>No Deck/Porch</td>\n",
       "      <td>No Patio Cover/Carport</td>\n",
       "      <td>Combustible</td>\n",
       "      <td>1985</td>\n",
       "      <td>39.766168</td>\n",
       "      <td>-121.588601</td>\n",
       "      <td>30.136204</td>\n",
       "      <td>98.872064</td>\n",
       "    </tr>\n",
       "  </tbody>\n",
       "</table>\n",
       "</div>\n",
       "    <div class=\"colab-df-buttons\">\n",
       "\n",
       "  <div class=\"colab-df-container\">\n",
       "    <button class=\"colab-df-convert\" onclick=\"convertToInteractive('df-5b343983-a2f0-42f2-a504-54f4145359a5')\"\n",
       "            title=\"Convert this dataframe to an interactive table.\"\n",
       "            style=\"display:none;\">\n",
       "\n",
       "  <svg xmlns=\"http://www.w3.org/2000/svg\" height=\"24px\" viewBox=\"0 -960 960 960\">\n",
       "    <path d=\"M120-120v-720h720v720H120Zm60-500h600v-160H180v160Zm220 220h160v-160H400v160Zm0 220h160v-160H400v160ZM180-400h160v-160H180v160Zm440 0h160v-160H620v160ZM180-180h160v-160H180v160Zm440 0h160v-160H620v160Z\"/>\n",
       "  </svg>\n",
       "    </button>\n",
       "\n",
       "  <style>\n",
       "    .colab-df-container {\n",
       "      display:flex;\n",
       "      gap: 12px;\n",
       "    }\n",
       "\n",
       "    .colab-df-convert {\n",
       "      background-color: #E8F0FE;\n",
       "      border: none;\n",
       "      border-radius: 50%;\n",
       "      cursor: pointer;\n",
       "      display: none;\n",
       "      fill: #1967D2;\n",
       "      height: 32px;\n",
       "      padding: 0 0 0 0;\n",
       "      width: 32px;\n",
       "    }\n",
       "\n",
       "    .colab-df-convert:hover {\n",
       "      background-color: #E2EBFA;\n",
       "      box-shadow: 0px 1px 2px rgba(60, 64, 67, 0.3), 0px 1px 3px 1px rgba(60, 64, 67, 0.15);\n",
       "      fill: #174EA6;\n",
       "    }\n",
       "\n",
       "    .colab-df-buttons div {\n",
       "      margin-bottom: 4px;\n",
       "    }\n",
       "\n",
       "    [theme=dark] .colab-df-convert {\n",
       "      background-color: #3B4455;\n",
       "      fill: #D2E3FC;\n",
       "    }\n",
       "\n",
       "    [theme=dark] .colab-df-convert:hover {\n",
       "      background-color: #434B5C;\n",
       "      box-shadow: 0px 1px 3px 1px rgba(0, 0, 0, 0.15);\n",
       "      filter: drop-shadow(0px 1px 2px rgba(0, 0, 0, 0.3));\n",
       "      fill: #FFFFFF;\n",
       "    }\n",
       "  </style>\n",
       "\n",
       "    <script>\n",
       "      const buttonEl =\n",
       "        document.querySelector('#df-5b343983-a2f0-42f2-a504-54f4145359a5 button.colab-df-convert');\n",
       "      buttonEl.style.display =\n",
       "        google.colab.kernel.accessAllowed ? 'block' : 'none';\n",
       "\n",
       "      async function convertToInteractive(key) {\n",
       "        const element = document.querySelector('#df-5b343983-a2f0-42f2-a504-54f4145359a5');\n",
       "        const dataTable =\n",
       "          await google.colab.kernel.invokeFunction('convertToInteractive',\n",
       "                                                    [key], {});\n",
       "        if (!dataTable) return;\n",
       "\n",
       "        const docLinkHtml = 'Like what you see? Visit the ' +\n",
       "          '<a target=\"_blank\" href=https://colab.research.google.com/notebooks/data_table.ipynb>data table notebook</a>'\n",
       "          + ' to learn more about interactive tables.';\n",
       "        element.innerHTML = '';\n",
       "        dataTable['output_type'] = 'display_data';\n",
       "        await google.colab.output.renderOutput(dataTable, element);\n",
       "        const docLink = document.createElement('div');\n",
       "        docLink.innerHTML = docLinkHtml;\n",
       "        element.appendChild(docLink);\n",
       "      }\n",
       "    </script>\n",
       "  </div>\n",
       "\n",
       "\n",
       "<div id=\"df-e1beecef-2db7-4e5e-a669-e6421e18ce25\">\n",
       "  <button class=\"colab-df-quickchart\" onclick=\"quickchart('df-e1beecef-2db7-4e5e-a669-e6421e18ce25')\"\n",
       "            title=\"Suggest charts\"\n",
       "            style=\"display:none;\">\n",
       "\n",
       "<svg xmlns=\"http://www.w3.org/2000/svg\" height=\"24px\"viewBox=\"0 0 24 24\"\n",
       "     width=\"24px\">\n",
       "    <g>\n",
       "        <path d=\"M19 3H5c-1.1 0-2 .9-2 2v14c0 1.1.9 2 2 2h14c1.1 0 2-.9 2-2V5c0-1.1-.9-2-2-2zM9 17H7v-7h2v7zm4 0h-2V7h2v10zm4 0h-2v-4h2v4z\"/>\n",
       "    </g>\n",
       "</svg>\n",
       "  </button>\n",
       "\n",
       "<style>\n",
       "  .colab-df-quickchart {\n",
       "      --bg-color: #E8F0FE;\n",
       "      --fill-color: #1967D2;\n",
       "      --hover-bg-color: #E2EBFA;\n",
       "      --hover-fill-color: #174EA6;\n",
       "      --disabled-fill-color: #AAA;\n",
       "      --disabled-bg-color: #DDD;\n",
       "  }\n",
       "\n",
       "  [theme=dark] .colab-df-quickchart {\n",
       "      --bg-color: #3B4455;\n",
       "      --fill-color: #D2E3FC;\n",
       "      --hover-bg-color: #434B5C;\n",
       "      --hover-fill-color: #FFFFFF;\n",
       "      --disabled-bg-color: #3B4455;\n",
       "      --disabled-fill-color: #666;\n",
       "  }\n",
       "\n",
       "  .colab-df-quickchart {\n",
       "    background-color: var(--bg-color);\n",
       "    border: none;\n",
       "    border-radius: 50%;\n",
       "    cursor: pointer;\n",
       "    display: none;\n",
       "    fill: var(--fill-color);\n",
       "    height: 32px;\n",
       "    padding: 0;\n",
       "    width: 32px;\n",
       "  }\n",
       "\n",
       "  .colab-df-quickchart:hover {\n",
       "    background-color: var(--hover-bg-color);\n",
       "    box-shadow: 0 1px 2px rgba(60, 64, 67, 0.3), 0 1px 3px 1px rgba(60, 64, 67, 0.15);\n",
       "    fill: var(--button-hover-fill-color);\n",
       "  }\n",
       "\n",
       "  .colab-df-quickchart-complete:disabled,\n",
       "  .colab-df-quickchart-complete:disabled:hover {\n",
       "    background-color: var(--disabled-bg-color);\n",
       "    fill: var(--disabled-fill-color);\n",
       "    box-shadow: none;\n",
       "  }\n",
       "\n",
       "  .colab-df-spinner {\n",
       "    border: 2px solid var(--fill-color);\n",
       "    border-color: transparent;\n",
       "    border-bottom-color: var(--fill-color);\n",
       "    animation:\n",
       "      spin 1s steps(1) infinite;\n",
       "  }\n",
       "\n",
       "  @keyframes spin {\n",
       "    0% {\n",
       "      border-color: transparent;\n",
       "      border-bottom-color: var(--fill-color);\n",
       "      border-left-color: var(--fill-color);\n",
       "    }\n",
       "    20% {\n",
       "      border-color: transparent;\n",
       "      border-left-color: var(--fill-color);\n",
       "      border-top-color: var(--fill-color);\n",
       "    }\n",
       "    30% {\n",
       "      border-color: transparent;\n",
       "      border-left-color: var(--fill-color);\n",
       "      border-top-color: var(--fill-color);\n",
       "      border-right-color: var(--fill-color);\n",
       "    }\n",
       "    40% {\n",
       "      border-color: transparent;\n",
       "      border-right-color: var(--fill-color);\n",
       "      border-top-color: var(--fill-color);\n",
       "    }\n",
       "    60% {\n",
       "      border-color: transparent;\n",
       "      border-right-color: var(--fill-color);\n",
       "    }\n",
       "    80% {\n",
       "      border-color: transparent;\n",
       "      border-right-color: var(--fill-color);\n",
       "      border-bottom-color: var(--fill-color);\n",
       "    }\n",
       "    90% {\n",
       "      border-color: transparent;\n",
       "      border-bottom-color: var(--fill-color);\n",
       "    }\n",
       "  }\n",
       "</style>\n",
       "\n",
       "  <script>\n",
       "    async function quickchart(key) {\n",
       "      const quickchartButtonEl =\n",
       "        document.querySelector('#' + key + ' button');\n",
       "      quickchartButtonEl.disabled = true;  // To prevent multiple clicks.\n",
       "      quickchartButtonEl.classList.add('colab-df-spinner');\n",
       "      try {\n",
       "        const charts = await google.colab.kernel.invokeFunction(\n",
       "            'suggestCharts', [key], {});\n",
       "      } catch (error) {\n",
       "        console.error('Error during call to suggestCharts:', error);\n",
       "      }\n",
       "      quickchartButtonEl.classList.remove('colab-df-spinner');\n",
       "      quickchartButtonEl.classList.add('colab-df-quickchart-complete');\n",
       "    }\n",
       "    (() => {\n",
       "      let quickchartButtonEl =\n",
       "        document.querySelector('#df-e1beecef-2db7-4e5e-a669-e6421e18ce25 button');\n",
       "      quickchartButtonEl.style.display =\n",
       "        google.colab.kernel.accessAllowed ? 'block' : 'none';\n",
       "    })();\n",
       "  </script>\n",
       "</div>\n",
       "    </div>\n",
       "  </div>\n"
      ],
      "text/plain": [
       "             DAMAGE ROOFCONSTRUCTION     EAVES           VENTSCREEN  \\\n",
       "0  Destroyed (>50%)          Asphalt  Enclosed  Mesh Screen <= 1/8\"   \n",
       "1  Destroyed (>50%)          Asphalt  Enclosed  Mesh Screen <= 1/8\"   \n",
       "2  Destroyed (>50%)          Asphalt  Enclosed  Mesh Screen <= 1/8\"   \n",
       "3   Affected (1-9%)          Asphalt  Enclosed  Mesh Screen <= 1/8\"   \n",
       "4   Affected (1-9%)          Asphalt  Enclosed  Mesh Screen <= 1/8\"   \n",
       "\n",
       "  EXTERIORSIDING  WINDOWPANE DECKPORCHONGRADE DECKPORCHELEVATED  \\\n",
       "0    Combustible  Multi Pane        Composite     No Deck/Porch   \n",
       "1    Combustible  Multi Pane        Composite     No Deck/Porch   \n",
       "2    Combustible  Multi Pane        Composite              Wood   \n",
       "3    Combustible  Multi Pane        Composite     No Deck/Porch   \n",
       "4    Combustible  Multi Pane        Composite     No Deck/Porch   \n",
       "\n",
       "               PATIOCOVER            FENCE YEARBUILT   LATITUDE   LONGITUDE  \\\n",
       "0             Combustible      Combustible      1953  39.773030 -121.578383   \n",
       "1             Combustible  Non Combustible      1973  39.781616 -121.607243   \n",
       "2  No Patio Cover/Carport  Non Combustible      1974  39.780287 -121.585203   \n",
       "3  No Patio Cover/Carport  Non Combustible      1979  39.734655 -121.571064   \n",
       "4  No Patio Cover/Carport      Combustible      1985  39.766168 -121.588601   \n",
       "\n",
       "   distance_meter    DISTANCE  \n",
       "0       52.432312  172.022027  \n",
       "1       41.718953  136.873208  \n",
       "2       36.386770  119.379170  \n",
       "3       90.943286  298.370371  \n",
       "4       30.136204   98.872064  "
      ]
     },
     "execution_count": 190,
     "metadata": {},
     "output_type": "execute_result"
    }
   ],
   "source": [
    "df.head()"
   ]
  },
  {
   "cell_type": "markdown",
   "id": "cbf3676b",
   "metadata": {
    "id": "cbf3676b"
   },
   "source": [
    "# Missing values\n",
    "\n",
    "For all DINS"
   ]
  },
  {
   "cell_type": "code",
   "execution_count": 191,
   "id": "1aabb52d",
   "metadata": {
    "colab": {
     "base_uri": "https://localhost:8080/",
     "height": 519
    },
    "id": "1aabb52d",
    "outputId": "ee766a34-d556-464a-f1bd-275dfa958a05"
   },
   "outputs": [
    {
     "data": {
      "text/html": [
       "\n",
       "  <div id=\"df-4b49c7da-5373-41aa-8d82-51c9e77db5b2\" class=\"colab-df-container\">\n",
       "    <div>\n",
       "<style scoped>\n",
       "    .dataframe tbody tr th:only-of-type {\n",
       "        vertical-align: middle;\n",
       "    }\n",
       "\n",
       "    .dataframe tbody tr th {\n",
       "        vertical-align: top;\n",
       "    }\n",
       "\n",
       "    .dataframe thead th {\n",
       "        text-align: right;\n",
       "    }\n",
       "</style>\n",
       "<table border=\"1\" class=\"dataframe\">\n",
       "  <thead>\n",
       "    <tr style=\"text-align: right;\">\n",
       "      <th></th>\n",
       "      <th>Missing values</th>\n",
       "    </tr>\n",
       "  </thead>\n",
       "  <tbody>\n",
       "    <tr>\n",
       "      <th>YEARBUILT</th>\n",
       "      <td>34075</td>\n",
       "    </tr>\n",
       "    <tr>\n",
       "      <th>PATIOCOVER</th>\n",
       "      <td>16871</td>\n",
       "    </tr>\n",
       "    <tr>\n",
       "      <th>FENCE</th>\n",
       "      <td>16868</td>\n",
       "    </tr>\n",
       "    <tr>\n",
       "      <th>DECKPORCHELEVATED</th>\n",
       "      <td>16867</td>\n",
       "    </tr>\n",
       "    <tr>\n",
       "      <th>DECKPORCHONGRADE</th>\n",
       "      <td>16866</td>\n",
       "    </tr>\n",
       "    <tr>\n",
       "      <th>VENTSCREEN</th>\n",
       "      <td>4465</td>\n",
       "    </tr>\n",
       "    <tr>\n",
       "      <th>WINDOWPANE</th>\n",
       "      <td>4425</td>\n",
       "    </tr>\n",
       "    <tr>\n",
       "      <th>EAVES</th>\n",
       "      <td>4416</td>\n",
       "    </tr>\n",
       "    <tr>\n",
       "      <th>EXTERIORSIDING</th>\n",
       "      <td>4357</td>\n",
       "    </tr>\n",
       "    <tr>\n",
       "      <th>ROOFCONSTRUCTION</th>\n",
       "      <td>4340</td>\n",
       "    </tr>\n",
       "    <tr>\n",
       "      <th>DAMAGE</th>\n",
       "      <td>0</td>\n",
       "    </tr>\n",
       "    <tr>\n",
       "      <th>LATITUDE</th>\n",
       "      <td>0</td>\n",
       "    </tr>\n",
       "    <tr>\n",
       "      <th>LONGITUDE</th>\n",
       "      <td>0</td>\n",
       "    </tr>\n",
       "    <tr>\n",
       "      <th>distance_meter</th>\n",
       "      <td>0</td>\n",
       "    </tr>\n",
       "    <tr>\n",
       "      <th>DISTANCE</th>\n",
       "      <td>0</td>\n",
       "    </tr>\n",
       "  </tbody>\n",
       "</table>\n",
       "</div>\n",
       "    <div class=\"colab-df-buttons\">\n",
       "\n",
       "  <div class=\"colab-df-container\">\n",
       "    <button class=\"colab-df-convert\" onclick=\"convertToInteractive('df-4b49c7da-5373-41aa-8d82-51c9e77db5b2')\"\n",
       "            title=\"Convert this dataframe to an interactive table.\"\n",
       "            style=\"display:none;\">\n",
       "\n",
       "  <svg xmlns=\"http://www.w3.org/2000/svg\" height=\"24px\" viewBox=\"0 -960 960 960\">\n",
       "    <path d=\"M120-120v-720h720v720H120Zm60-500h600v-160H180v160Zm220 220h160v-160H400v160Zm0 220h160v-160H400v160ZM180-400h160v-160H180v160Zm440 0h160v-160H620v160ZM180-180h160v-160H180v160Zm440 0h160v-160H620v160Z\"/>\n",
       "  </svg>\n",
       "    </button>\n",
       "\n",
       "  <style>\n",
       "    .colab-df-container {\n",
       "      display:flex;\n",
       "      gap: 12px;\n",
       "    }\n",
       "\n",
       "    .colab-df-convert {\n",
       "      background-color: #E8F0FE;\n",
       "      border: none;\n",
       "      border-radius: 50%;\n",
       "      cursor: pointer;\n",
       "      display: none;\n",
       "      fill: #1967D2;\n",
       "      height: 32px;\n",
       "      padding: 0 0 0 0;\n",
       "      width: 32px;\n",
       "    }\n",
       "\n",
       "    .colab-df-convert:hover {\n",
       "      background-color: #E2EBFA;\n",
       "      box-shadow: 0px 1px 2px rgba(60, 64, 67, 0.3), 0px 1px 3px 1px rgba(60, 64, 67, 0.15);\n",
       "      fill: #174EA6;\n",
       "    }\n",
       "\n",
       "    .colab-df-buttons div {\n",
       "      margin-bottom: 4px;\n",
       "    }\n",
       "\n",
       "    [theme=dark] .colab-df-convert {\n",
       "      background-color: #3B4455;\n",
       "      fill: #D2E3FC;\n",
       "    }\n",
       "\n",
       "    [theme=dark] .colab-df-convert:hover {\n",
       "      background-color: #434B5C;\n",
       "      box-shadow: 0px 1px 3px 1px rgba(0, 0, 0, 0.15);\n",
       "      filter: drop-shadow(0px 1px 2px rgba(0, 0, 0, 0.3));\n",
       "      fill: #FFFFFF;\n",
       "    }\n",
       "  </style>\n",
       "\n",
       "    <script>\n",
       "      const buttonEl =\n",
       "        document.querySelector('#df-4b49c7da-5373-41aa-8d82-51c9e77db5b2 button.colab-df-convert');\n",
       "      buttonEl.style.display =\n",
       "        google.colab.kernel.accessAllowed ? 'block' : 'none';\n",
       "\n",
       "      async function convertToInteractive(key) {\n",
       "        const element = document.querySelector('#df-4b49c7da-5373-41aa-8d82-51c9e77db5b2');\n",
       "        const dataTable =\n",
       "          await google.colab.kernel.invokeFunction('convertToInteractive',\n",
       "                                                    [key], {});\n",
       "        if (!dataTable) return;\n",
       "\n",
       "        const docLinkHtml = 'Like what you see? Visit the ' +\n",
       "          '<a target=\"_blank\" href=https://colab.research.google.com/notebooks/data_table.ipynb>data table notebook</a>'\n",
       "          + ' to learn more about interactive tables.';\n",
       "        element.innerHTML = '';\n",
       "        dataTable['output_type'] = 'display_data';\n",
       "        await google.colab.output.renderOutput(dataTable, element);\n",
       "        const docLink = document.createElement('div');\n",
       "        docLink.innerHTML = docLinkHtml;\n",
       "        element.appendChild(docLink);\n",
       "      }\n",
       "    </script>\n",
       "  </div>\n",
       "\n",
       "\n",
       "<div id=\"df-5fae736c-1524-4b4c-9468-79b579a45bc2\">\n",
       "  <button class=\"colab-df-quickchart\" onclick=\"quickchart('df-5fae736c-1524-4b4c-9468-79b579a45bc2')\"\n",
       "            title=\"Suggest charts\"\n",
       "            style=\"display:none;\">\n",
       "\n",
       "<svg xmlns=\"http://www.w3.org/2000/svg\" height=\"24px\"viewBox=\"0 0 24 24\"\n",
       "     width=\"24px\">\n",
       "    <g>\n",
       "        <path d=\"M19 3H5c-1.1 0-2 .9-2 2v14c0 1.1.9 2 2 2h14c1.1 0 2-.9 2-2V5c0-1.1-.9-2-2-2zM9 17H7v-7h2v7zm4 0h-2V7h2v10zm4 0h-2v-4h2v4z\"/>\n",
       "    </g>\n",
       "</svg>\n",
       "  </button>\n",
       "\n",
       "<style>\n",
       "  .colab-df-quickchart {\n",
       "      --bg-color: #E8F0FE;\n",
       "      --fill-color: #1967D2;\n",
       "      --hover-bg-color: #E2EBFA;\n",
       "      --hover-fill-color: #174EA6;\n",
       "      --disabled-fill-color: #AAA;\n",
       "      --disabled-bg-color: #DDD;\n",
       "  }\n",
       "\n",
       "  [theme=dark] .colab-df-quickchart {\n",
       "      --bg-color: #3B4455;\n",
       "      --fill-color: #D2E3FC;\n",
       "      --hover-bg-color: #434B5C;\n",
       "      --hover-fill-color: #FFFFFF;\n",
       "      --disabled-bg-color: #3B4455;\n",
       "      --disabled-fill-color: #666;\n",
       "  }\n",
       "\n",
       "  .colab-df-quickchart {\n",
       "    background-color: var(--bg-color);\n",
       "    border: none;\n",
       "    border-radius: 50%;\n",
       "    cursor: pointer;\n",
       "    display: none;\n",
       "    fill: var(--fill-color);\n",
       "    height: 32px;\n",
       "    padding: 0;\n",
       "    width: 32px;\n",
       "  }\n",
       "\n",
       "  .colab-df-quickchart:hover {\n",
       "    background-color: var(--hover-bg-color);\n",
       "    box-shadow: 0 1px 2px rgba(60, 64, 67, 0.3), 0 1px 3px 1px rgba(60, 64, 67, 0.15);\n",
       "    fill: var(--button-hover-fill-color);\n",
       "  }\n",
       "\n",
       "  .colab-df-quickchart-complete:disabled,\n",
       "  .colab-df-quickchart-complete:disabled:hover {\n",
       "    background-color: var(--disabled-bg-color);\n",
       "    fill: var(--disabled-fill-color);\n",
       "    box-shadow: none;\n",
       "  }\n",
       "\n",
       "  .colab-df-spinner {\n",
       "    border: 2px solid var(--fill-color);\n",
       "    border-color: transparent;\n",
       "    border-bottom-color: var(--fill-color);\n",
       "    animation:\n",
       "      spin 1s steps(1) infinite;\n",
       "  }\n",
       "\n",
       "  @keyframes spin {\n",
       "    0% {\n",
       "      border-color: transparent;\n",
       "      border-bottom-color: var(--fill-color);\n",
       "      border-left-color: var(--fill-color);\n",
       "    }\n",
       "    20% {\n",
       "      border-color: transparent;\n",
       "      border-left-color: var(--fill-color);\n",
       "      border-top-color: var(--fill-color);\n",
       "    }\n",
       "    30% {\n",
       "      border-color: transparent;\n",
       "      border-left-color: var(--fill-color);\n",
       "      border-top-color: var(--fill-color);\n",
       "      border-right-color: var(--fill-color);\n",
       "    }\n",
       "    40% {\n",
       "      border-color: transparent;\n",
       "      border-right-color: var(--fill-color);\n",
       "      border-top-color: var(--fill-color);\n",
       "    }\n",
       "    60% {\n",
       "      border-color: transparent;\n",
       "      border-right-color: var(--fill-color);\n",
       "    }\n",
       "    80% {\n",
       "      border-color: transparent;\n",
       "      border-right-color: var(--fill-color);\n",
       "      border-bottom-color: var(--fill-color);\n",
       "    }\n",
       "    90% {\n",
       "      border-color: transparent;\n",
       "      border-bottom-color: var(--fill-color);\n",
       "    }\n",
       "  }\n",
       "</style>\n",
       "\n",
       "  <script>\n",
       "    async function quickchart(key) {\n",
       "      const quickchartButtonEl =\n",
       "        document.querySelector('#' + key + ' button');\n",
       "      quickchartButtonEl.disabled = true;  // To prevent multiple clicks.\n",
       "      quickchartButtonEl.classList.add('colab-df-spinner');\n",
       "      try {\n",
       "        const charts = await google.colab.kernel.invokeFunction(\n",
       "            'suggestCharts', [key], {});\n",
       "      } catch (error) {\n",
       "        console.error('Error during call to suggestCharts:', error);\n",
       "      }\n",
       "      quickchartButtonEl.classList.remove('colab-df-spinner');\n",
       "      quickchartButtonEl.classList.add('colab-df-quickchart-complete');\n",
       "    }\n",
       "    (() => {\n",
       "      let quickchartButtonEl =\n",
       "        document.querySelector('#df-5fae736c-1524-4b4c-9468-79b579a45bc2 button');\n",
       "      quickchartButtonEl.style.display =\n",
       "        google.colab.kernel.accessAllowed ? 'block' : 'none';\n",
       "    })();\n",
       "  </script>\n",
       "</div>\n",
       "    </div>\n",
       "  </div>\n"
      ],
      "text/plain": [
       "                   Missing values\n",
       "YEARBUILT                   34075\n",
       "PATIOCOVER                  16871\n",
       "FENCE                       16868\n",
       "DECKPORCHELEVATED           16867\n",
       "DECKPORCHONGRADE            16866\n",
       "VENTSCREEN                   4465\n",
       "WINDOWPANE                   4425\n",
       "EAVES                        4416\n",
       "EXTERIORSIDING               4357\n",
       "ROOFCONSTRUCTION             4340\n",
       "DAMAGE                          0\n",
       "LATITUDE                        0\n",
       "LONGITUDE                       0\n",
       "distance_meter                  0\n",
       "DISTANCE                        0"
      ]
     },
     "execution_count": 191,
     "metadata": {},
     "output_type": "execute_result"
    }
   ],
   "source": [
    "pd.DataFrame(df.isna().sum(), columns=['Missing values']).sort_values(by='Missing values', ascending=False)"
   ]
  },
  {
   "cell_type": "markdown",
   "id": "9a1fa830",
   "metadata": {
    "id": "9a1fa830"
   },
   "source": [
    "## Start processing\n",
    "\n",
    "Backup to avoid load the data again..."
   ]
  },
  {
   "cell_type": "code",
   "execution_count": 192,
   "id": "b8226093",
   "metadata": {
    "id": "b8226093"
   },
   "outputs": [],
   "source": [
    "df_filter = df.copy() # A copy to work with"
   ]
  },
  {
   "cell_type": "code",
   "execution_count": 193,
   "id": "78ea13ac",
   "metadata": {
    "id": "78ea13ac",
    "scrolled": true
   },
   "outputs": [],
   "source": [
    "df_filter.drop('distance_meter', inplace=True, axis=1)"
   ]
  },
  {
   "cell_type": "markdown",
   "id": "a672f3a3",
   "metadata": {
    "id": "a672f3a3"
   },
   "source": [
    "### Column analysis"
   ]
  },
  {
   "cell_type": "markdown",
   "id": "6cd591d3",
   "metadata": {
    "id": "6cd591d3"
   },
   "source": [
    "#### Damage\n",
    "\n",
    "Convert values to classes."
   ]
  },
  {
   "cell_type": "code",
   "execution_count": 194,
   "id": "25737b45",
   "metadata": {
    "colab": {
     "base_uri": "https://localhost:8080/"
    },
    "id": "25737b45",
    "outputId": "4c415d6a-d23f-4206-d999-229790f644ba"
   },
   "outputs": [
    {
     "data": {
      "text/plain": [
       "array(['Destroyed (>50%)', 'Affected (1-9%)', 'Minor (10-25%)',\n",
       "       'Major (26-50%)', 'No Damage', 'Inaccessible'], dtype=object)"
      ]
     },
     "execution_count": 194,
     "metadata": {},
     "output_type": "execute_result"
    }
   ],
   "source": [
    "df_filter['DAMAGE'].unique()"
   ]
  },
  {
   "cell_type": "code",
   "execution_count": 195,
   "id": "dbce45f5",
   "metadata": {
    "id": "dbce45f5"
   },
   "outputs": [],
   "source": [
    "damage_labels = ['Inaccessible', 'No Damage', 'Affected (1-9%)', 'Minor (10-25%)', 'Major (26-50%)', 'Destroyed (>50%)']\n",
    "damage_values = [np.nan, 0, 1, 1, 1, 2]\n",
    "df_filter['DAMAGE'].replace(\n",
    "    damage_labels,\n",
    "    damage_values,\n",
    "    inplace=True\n",
    ")"
   ]
  },
  {
   "cell_type": "markdown",
   "id": "WlwB_rG62y7o",
   "metadata": {
    "id": "WlwB_rG62y7o"
   },
   "source": [
    "#### Latitude and Longitude\n",
    "\n",
    "Nothing to do with them."
   ]
  },
  {
   "cell_type": "code",
   "execution_count": 196,
   "id": "uHbGY7Om23oO",
   "metadata": {
    "colab": {
     "base_uri": "https://localhost:8080/"
    },
    "id": "uHbGY7Om23oO",
    "outputId": "e99df04f-1151-4073-c4ae-58481cf55436"
   },
   "outputs": [
    {
     "data": {
      "text/plain": [
       "count    87157.000000\n",
       "mean        38.508508\n",
       "std          1.867543\n",
       "min         32.592548\n",
       "25%         38.353291\n",
       "50%         38.771461\n",
       "75%         39.765584\n",
       "max         41.991195\n",
       "Name: LATITUDE, dtype: float64"
      ]
     },
     "execution_count": 196,
     "metadata": {},
     "output_type": "execute_result"
    }
   ],
   "source": [
    "df_filter['LATITUDE'].describe()"
   ]
  },
  {
   "cell_type": "code",
   "execution_count": 197,
   "id": "vIAC2gqz294o",
   "metadata": {
    "colab": {
     "base_uri": "https://localhost:8080/"
    },
    "id": "vIAC2gqz294o",
    "outputId": "5c82953a-87f4-4bab-bd8e-233042936503"
   },
   "outputs": [
    {
     "data": {
      "text/plain": [
       "count    87157.000000\n",
       "mean      -121.309698\n",
       "std          1.428654\n",
       "min       -123.774580\n",
       "25%       -122.317856\n",
       "50%       -121.603289\n",
       "75%       -120.863909\n",
       "max       -116.444013\n",
       "Name: LONGITUDE, dtype: float64"
      ]
     },
     "execution_count": 197,
     "metadata": {},
     "output_type": "execute_result"
    }
   ],
   "source": [
    "df_filter['LONGITUDE'].describe()"
   ]
  },
  {
   "cell_type": "markdown",
   "id": "3d9af121",
   "metadata": {
    "id": "3d9af121"
   },
   "source": [
    "#### DECKPORCHONGRADE\n",
    "\n",
    "Text to categorical values."
   ]
  },
  {
   "cell_type": "code",
   "execution_count": 198,
   "id": "a65b2509",
   "metadata": {
    "colab": {
     "base_uri": "https://localhost:8080/"
    },
    "id": "a65b2509",
    "outputId": "b20451de-7de1-40b6-9357-df74dcbfa8d0"
   },
   "outputs": [
    {
     "data": {
      "text/plain": [
       "array(['Composite', 'Masonry/Concrete', 'No Deck/Porch', 'Unknown',\n",
       "       'Wood', nan], dtype=object)"
      ]
     },
     "execution_count": 198,
     "metadata": {},
     "output_type": "execute_result"
    }
   ],
   "source": [
    "df_filter['DECKPORCHONGRADE'].unique()"
   ]
  },
  {
   "cell_type": "markdown",
   "id": "YZHPmxdeN0mR",
   "metadata": {
    "id": "YZHPmxdeN0mR"
   },
   "source": [
    "There are some `' '` values. We will replace them by NaN.\n"
   ]
  },
  {
   "cell_type": "code",
   "execution_count": 199,
   "id": "c59e8c59",
   "metadata": {
    "id": "c59e8c59"
   },
   "outputs": [],
   "source": [
    "deck_porch_labels = ['Unknown', 'No Deck/Porch', 'Masonry/Concrete', 'Composite', 'Wood', ' ']\n",
    "deck_porch_values = [np.nan, 0, 1, 2, 3, np.nan]\n",
    "df_filter['DECKPORCHONGRADE'].replace(\n",
    "    deck_porch_labels,\n",
    "    deck_porch_values,\n",
    "    inplace=True\n",
    ")"
   ]
  },
  {
   "cell_type": "code",
   "execution_count": 200,
   "id": "K0vqz3HRwwE9",
   "metadata": {
    "colab": {
     "base_uri": "https://localhost:8080/"
    },
    "id": "K0vqz3HRwwE9",
    "outputId": "927fdf83-9fec-4f05-ac2b-0e7f944372b5"
   },
   "outputs": [
    {
     "name": "stdout",
     "output_type": "stream",
     "text": [
      "[ 2.  1.  0. nan  3.]\n"
     ]
    }
   ],
   "source": [
    "print(df_filter['DECKPORCHONGRADE'].unique())"
   ]
  },
  {
   "cell_type": "markdown",
   "id": "519affc8",
   "metadata": {
    "id": "519affc8"
   },
   "source": [
    "#### DECKPORCHELEVATED\n",
    "\n",
    "Text to categorical values."
   ]
  },
  {
   "cell_type": "code",
   "execution_count": 201,
   "id": "08463525",
   "metadata": {
    "colab": {
     "base_uri": "https://localhost:8080/"
    },
    "id": "08463525",
    "outputId": "3f65d684-6a7d-4d58-ddf3-6b4b9f593068"
   },
   "outputs": [
    {
     "data": {
      "text/plain": [
       "array(['No Deck/Porch', 'Wood', 'Composite', 'Unknown',\n",
       "       'Masonry/Concrete', nan], dtype=object)"
      ]
     },
     "execution_count": 201,
     "metadata": {},
     "output_type": "execute_result"
    }
   ],
   "source": [
    "df_filter['DECKPORCHELEVATED'].unique()"
   ]
  },
  {
   "cell_type": "markdown",
   "id": "7E7h6hQJSSsS",
   "metadata": {
    "id": "7E7h6hQJSSsS"
   },
   "source": [
    "There are some `' '` values. We will replace them by NaN."
   ]
  },
  {
   "cell_type": "code",
   "execution_count": 202,
   "id": "75ab8ac5",
   "metadata": {
    "id": "75ab8ac5"
   },
   "outputs": [],
   "source": [
    "deck_porch_elev_labels = ['Unknown', 'No Deck/Porch', 'Composite', 'Masonry/Concrete', 'Wood', ' ']\n",
    "deck_porch_elev_values = [np.nan, 0, 1, 2, 3, np.nan]\n",
    "df_filter['DECKPORCHELEVATED'].replace(\n",
    "    deck_porch_elev_labels,\n",
    "    deck_porch_elev_values,\n",
    "    inplace=True\n",
    ")"
   ]
  },
  {
   "cell_type": "markdown",
   "id": "67ad29ad",
   "metadata": {
    "id": "67ad29ad"
   },
   "source": [
    "#### PATIOCOVER\n",
    "\n",
    "Text to categorical values."
   ]
  },
  {
   "cell_type": "code",
   "execution_count": 203,
   "id": "c8e6d6b9",
   "metadata": {
    "colab": {
     "base_uri": "https://localhost:8080/"
    },
    "id": "c8e6d6b9",
    "outputId": "d54efad6-f1a4-4a73-80ac-419648b01af4"
   },
   "outputs": [
    {
     "data": {
      "text/plain": [
       "array(['Combustible', 'No Patio Cover/Carport', 'Non Combustible',\n",
       "       'Unknown', nan], dtype=object)"
      ]
     },
     "execution_count": 203,
     "metadata": {},
     "output_type": "execute_result"
    }
   ],
   "source": [
    "df_filter['PATIOCOVER'].unique()"
   ]
  },
  {
   "cell_type": "markdown",
   "id": "IyiqoqFfKzp5",
   "metadata": {
    "id": "IyiqoqFfKzp5"
   },
   "source": [
    "There are some `' '` values. We will replace them by NaN."
   ]
  },
  {
   "cell_type": "code",
   "execution_count": 204,
   "id": "ad1fa74b",
   "metadata": {
    "id": "ad1fa74b"
   },
   "outputs": [],
   "source": [
    "patio_labels = ['Unknown', 'No Patio Cover/Carport', 'Non Combustible', 'Combustible', ' ']\n",
    "patio_values = [np.nan, 0, 1, 2, np.nan]\n",
    "df_filter['PATIOCOVER'].replace(\n",
    "    patio_labels,\n",
    "    patio_values,\n",
    "    inplace=True\n",
    ")"
   ]
  },
  {
   "cell_type": "markdown",
   "id": "61b0e445",
   "metadata": {
    "id": "61b0e445"
   },
   "source": [
    "#### FENCE\n",
    "\n",
    "Text to categorical values."
   ]
  },
  {
   "cell_type": "code",
   "execution_count": 205,
   "id": "64e5516c",
   "metadata": {
    "colab": {
     "base_uri": "https://localhost:8080/"
    },
    "id": "64e5516c",
    "outputId": "d3566c28-61f5-4b09-da1d-8cfd962677e1"
   },
   "outputs": [
    {
     "data": {
      "text/plain": [
       "array(['Combustible', 'Non Combustible', 'No Fence', 'Unknown', nan],\n",
       "      dtype=object)"
      ]
     },
     "execution_count": 205,
     "metadata": {},
     "output_type": "execute_result"
    }
   ],
   "source": [
    "df_filter['FENCE'].unique()"
   ]
  },
  {
   "cell_type": "markdown",
   "id": "u4RGgafuR7fv",
   "metadata": {
    "id": "u4RGgafuR7fv"
   },
   "source": [
    "There are some `''` values. We will replace them by NaN."
   ]
  },
  {
   "cell_type": "code",
   "execution_count": 206,
   "id": "144b81fd",
   "metadata": {
    "id": "144b81fd"
   },
   "outputs": [],
   "source": [
    "fence_labels = ['Unknown', 'No Fence', 'Non Combustible', 'Combustible', '']\n",
    "fence_values = [np.nan, 0, 1, 2, np.nan]\n",
    "df_filter['FENCE'].replace(\n",
    "    fence_labels,\n",
    "    fence_values,\n",
    "    inplace=True\n",
    ")"
   ]
  },
  {
   "cell_type": "markdown",
   "id": "ddb803c0",
   "metadata": {
    "id": "ddb803c0"
   },
   "source": [
    "### ROOFCONSTRUCTION\n",
    "\n",
    "Text to integer"
   ]
  },
  {
   "cell_type": "code",
   "execution_count": 207,
   "id": "2b9acebf",
   "metadata": {
    "colab": {
     "base_uri": "https://localhost:8080/"
    },
    "id": "2b9acebf",
    "outputId": "c388baaa-ee21-4aeb-e1ce-6abe32a5e765"
   },
   "outputs": [
    {
     "data": {
      "text/plain": [
       "array(['Asphalt', 'Metal', 'Tile', 'Concrete', 'Other', 'Unknown', 'Wood',\n",
       "       'Combustible', 'Fire Resistant', nan], dtype=object)"
      ]
     },
     "execution_count": 207,
     "metadata": {},
     "output_type": "execute_result"
    }
   ],
   "source": [
    "df_filter['ROOFCONSTRUCTION'].unique()"
   ]
  },
  {
   "cell_type": "code",
   "execution_count": 208,
   "id": "87b935be",
   "metadata": {
    "id": "87b935be"
   },
   "outputs": [],
   "source": [
    "roof_construction_labels = ['Unknown', 'Fire Resistant', 'Metal', 'Concrete', 'Tile', 'Asphalt','Other','Wood', 'Combustible', ' ']\n",
    "roof_construction_values = [np.nan, 0, 0, 0, 1, 2, 3 , 4, 4, np.nan]\n",
    "df_filter['ROOFCONSTRUCTION'].replace(\n",
    "    roof_construction_labels,\n",
    "    roof_construction_values,\n",
    "    inplace=True\n",
    ")"
   ]
  },
  {
   "cell_type": "code",
   "execution_count": 209,
   "id": "VEy-Y7dlLHN3",
   "metadata": {
    "colab": {
     "base_uri": "https://localhost:8080/"
    },
    "id": "VEy-Y7dlLHN3",
    "outputId": "c9a56d5b-7738-48a0-e73e-df0109fd79ea"
   },
   "outputs": [
    {
     "data": {
      "text/plain": [
       "array([ 0.,  1.,  2.,  3.,  4., nan])"
      ]
     },
     "execution_count": 209,
     "metadata": {},
     "output_type": "execute_result"
    }
   ],
   "source": [
    "np.sort(df_filter['ROOFCONSTRUCTION'].unique())"
   ]
  },
  {
   "cell_type": "markdown",
   "id": "bfe49fa2",
   "metadata": {
    "id": "bfe49fa2"
   },
   "source": [
    "### EXTERIORSIDING\n",
    "\n",
    "Text to int"
   ]
  },
  {
   "cell_type": "code",
   "execution_count": 210,
   "id": "a0867651",
   "metadata": {
    "colab": {
     "base_uri": "https://localhost:8080/"
    },
    "id": "a0867651",
    "outputId": "114af643-827c-4357-8c17-d43804b67a20"
   },
   "outputs": [
    {
     "data": {
      "text/plain": [
       "array(['Combustible', 'Ignition Resistant', 'Metal', 'Other',\n",
       "       'Stucco Brick Cement', 'Vinyl', 'Wood', 'Stucco/Brick/Cement',\n",
       "       'Unknown', 'Fire Resistant', nan], dtype=object)"
      ]
     },
     "execution_count": 210,
     "metadata": {},
     "output_type": "execute_result"
    }
   ],
   "source": [
    "df_filter['EXTERIORSIDING'].unique()"
   ]
  },
  {
   "cell_type": "code",
   "execution_count": 211,
   "id": "6gsTpXZ3uYvm",
   "metadata": {
    "id": "6gsTpXZ3uYvm"
   },
   "outputs": [],
   "source": [
    "exterior_siding_labels = ['Unknown', 'Metal', 'Stucco Brick Cement', 'Stucco/Brick/Cement','Ignition Resistant','Fire Resistant', 'Vinyl', 'Other','Combustible','Wood', ' ']\n",
    "exterior_siding_values = [ np.nan, 0, 1, 1, 0, 0, 2, 3, 4, 4, np.nan,]\n",
    "df_filter['EXTERIORSIDING'].replace(\n",
    "    exterior_siding_labels,\n",
    "    exterior_siding_values,\n",
    "    inplace=True\n",
    ")"
   ]
  },
  {
   "cell_type": "code",
   "execution_count": 212,
   "id": "CcaXQXGQzNof",
   "metadata": {
    "colab": {
     "base_uri": "https://localhost:8080/"
    },
    "id": "CcaXQXGQzNof",
    "outputId": "b7d292c8-3473-4ff2-a889-ef3a0b8e5d00"
   },
   "outputs": [
    {
     "data": {
      "text/plain": [
       "array([ 0.,  1.,  2.,  3.,  4., nan])"
      ]
     },
     "execution_count": 212,
     "metadata": {},
     "output_type": "execute_result"
    }
   ],
   "source": [
    "np.sort(df_filter['EXTERIORSIDING'].unique())"
   ]
  },
  {
   "cell_type": "markdown",
   "id": "3d559b7d",
   "metadata": {
    "id": "3d559b7d"
   },
   "source": [
    "### WINDOWPANE\n",
    "\n",
    "Text to int"
   ]
  },
  {
   "cell_type": "code",
   "execution_count": 213,
   "id": "4e1fc04a",
   "metadata": {
    "colab": {
     "base_uri": "https://localhost:8080/"
    },
    "id": "4e1fc04a",
    "outputId": "b7834f55-acc8-46c7-babe-5bdca9b2c98a"
   },
   "outputs": [
    {
     "data": {
      "text/plain": [
       "array(['Multi Pane', 'Single Pane', 'No Windows', 'Unknown', nan],\n",
       "      dtype=object)"
      ]
     },
     "execution_count": 213,
     "metadata": {},
     "output_type": "execute_result"
    }
   ],
   "source": [
    "df_filter['WINDOWPANE'].unique()"
   ]
  },
  {
   "cell_type": "code",
   "execution_count": 214,
   "id": "43f0d037",
   "metadata": {
    "id": "43f0d037"
   },
   "outputs": [],
   "source": [
    "windows_pane_labels = ['Unknown', 'No Windows', 'Single Pane', 'Multi Pane', ' ']\n",
    "windows_pane_values = [np.nan, 0, 1, 2, np.nan]\n",
    "df_filter['WINDOWPANE'].replace(\n",
    "    windows_pane_labels,\n",
    "    windows_pane_values,\n",
    "    inplace=True\n",
    ")"
   ]
  },
  {
   "cell_type": "code",
   "execution_count": 215,
   "id": "KlIGhQJeL6Qr",
   "metadata": {
    "colab": {
     "base_uri": "https://localhost:8080/"
    },
    "id": "KlIGhQJeL6Qr",
    "outputId": "26ecac08-7baa-4f42-ac16-c389be26364b"
   },
   "outputs": [
    {
     "data": {
      "text/plain": [
       "array([ 0.,  1.,  2., nan])"
      ]
     },
     "execution_count": 215,
     "metadata": {},
     "output_type": "execute_result"
    }
   ],
   "source": [
    "np.sort(df_filter['WINDOWPANE'].unique())"
   ]
  },
  {
   "cell_type": "markdown",
   "id": "427ffc56",
   "metadata": {
    "id": "427ffc56"
   },
   "source": [
    "### EAVES\n",
    "\n",
    "Text to int"
   ]
  },
  {
   "cell_type": "code",
   "execution_count": 216,
   "id": "a665c348",
   "metadata": {
    "colab": {
     "base_uri": "https://localhost:8080/"
    },
    "id": "a665c348",
    "outputId": "a7ee5dd1-f5e2-4820-ef6a-58ff7fdffb21"
   },
   "outputs": [
    {
     "data": {
      "text/plain": [
       "array(['Enclosed', 'No Eaves', 'Not Applicable', 'Unenclosed', 'Unknown',\n",
       "       nan], dtype=object)"
      ]
     },
     "execution_count": 216,
     "metadata": {},
     "output_type": "execute_result"
    }
   ],
   "source": [
    "df_filter['EAVES'].unique()"
   ]
  },
  {
   "cell_type": "code",
   "execution_count": 217,
   "id": "02e646ef",
   "metadata": {
    "id": "02e646ef"
   },
   "outputs": [],
   "source": [
    "eaves_labels = ['Unknown', 'Not Applicable', 'No Eaves', 'Unenclosed', 'Enclosed', ' ']\n",
    "eaves_values = [np.nan, 0, 1, 2, 3, np.nan]\n",
    "df_filter['EAVES'].replace(\n",
    "    eaves_labels,\n",
    "    eaves_values,\n",
    "    inplace=True\n",
    ")"
   ]
  },
  {
   "cell_type": "code",
   "execution_count": 218,
   "id": "kWjsDw-DL9aX",
   "metadata": {
    "colab": {
     "base_uri": "https://localhost:8080/"
    },
    "id": "kWjsDw-DL9aX",
    "outputId": "6cc0246b-2452-409d-a7a2-90308bf03859"
   },
   "outputs": [
    {
     "data": {
      "text/plain": [
       "array([ 0.,  1.,  2.,  3., nan])"
      ]
     },
     "execution_count": 218,
     "metadata": {},
     "output_type": "execute_result"
    }
   ],
   "source": [
    "np.sort(df_filter['EAVES'].unique())"
   ]
  },
  {
   "cell_type": "markdown",
   "id": "e8d4ade3",
   "metadata": {
    "id": "e8d4ade3"
   },
   "source": [
    "### VENTSCREEN\n",
    "\n",
    "Text to integer"
   ]
  },
  {
   "cell_type": "code",
   "execution_count": 219,
   "id": "9f0c1c3e",
   "metadata": {
    "colab": {
     "base_uri": "https://localhost:8080/"
    },
    "id": "9f0c1c3e",
    "outputId": "f99fac2f-0d36-44f6-d615-200b5d548418"
   },
   "outputs": [
    {
     "data": {
      "text/plain": [
       "array(['Mesh Screen <= 1/8\"', 'Mesh Screen > 1/8\"', 'No Vents',\n",
       "       'Screened', 'Unknown', 'Unscreened', nan], dtype=object)"
      ]
     },
     "execution_count": 219,
     "metadata": {},
     "output_type": "execute_result"
    }
   ],
   "source": [
    "df_filter['VENTSCREEN'].unique()"
   ]
  },
  {
   "cell_type": "code",
   "execution_count": 220,
   "id": "309a9f44",
   "metadata": {
    "id": "309a9f44"
   },
   "outputs": [],
   "source": [
    "vent_screen_labels = ['Unknown', 'Screened', 'Mesh Screen <= 1/8\"', 'Mesh Screen > 1/8\"', 'Unscreened', 'No Vents', ' ']\n",
    "vent_screen_values = [np.nan, 0, 1, 2, 3, 4, np.nan]\n",
    "df_filter['VENTSCREEN'].replace(\n",
    "    vent_screen_labels,\n",
    "    vent_screen_values,\n",
    "    inplace=True\n",
    ")"
   ]
  },
  {
   "cell_type": "code",
   "execution_count": 221,
   "id": "RUmk95DANhsr",
   "metadata": {
    "colab": {
     "base_uri": "https://localhost:8080/"
    },
    "id": "RUmk95DANhsr",
    "outputId": "a385a8b9-73d0-4ccc-ba7b-3bb9d8c5ceea"
   },
   "outputs": [
    {
     "data": {
      "text/plain": [
       "array([ 0.,  1.,  2.,  3.,  4., nan])"
      ]
     },
     "execution_count": 221,
     "metadata": {},
     "output_type": "execute_result"
    }
   ],
   "source": [
    "np.sort(df_filter['VENTSCREEN'].unique())"
   ]
  },
  {
   "cell_type": "markdown",
   "id": "d3c22375",
   "metadata": {
    "id": "d3c22375"
   },
   "source": [
    "### YEARBUILT\n",
    "\n",
    "It's a number, nothing to do."
   ]
  },
  {
   "cell_type": "code",
   "execution_count": 222,
   "id": "275ef840",
   "metadata": {
    "colab": {
     "base_uri": "https://localhost:8080/"
    },
    "id": "275ef840",
    "outputId": "0ecd0f00-db69-4022-a858-cd25e0fe6c9b"
   },
   "outputs": [
    {
     "data": {
      "text/plain": [
       "array(['1953', '1973', '1974', '1979', '1985', '1993', '1972', '1992',\n",
       "       nan, '1952', '1999', '2005', '2007', '2010', '2011', '2017',\n",
       "       '1960', '1988', '2013', '1900', '1940', '1942', '1943', '1946',\n",
       "       '1947', '1951', '1954', '1955', '1956', '1957', '1958', '1959',\n",
       "       '1961', '1962', '1963', '1964', '1967', '1968', '1969', '1970',\n",
       "       '1971', '1975', '1976', '1977', '1978', '1980', '1981', '1983',\n",
       "       '1986', '1987', '1989', '1990', '1991', '1994', '1995', '1996',\n",
       "       '1997', '1998', '2000', '2001', '2002', '2006', '2014', '2015',\n",
       "       '2016', '1930', '1944', '1949', '1950', '1965', '1966', '1982',\n",
       "       '1984', '2003', '2004', '2008', '2009', '2012', '1919', '1939',\n",
       "       '1945', '2019', '2018', '<Null>', '1890', '1938', '1941', '1948',\n",
       "       '1877', '1915', '1910', '1929', '1937', '1922', '1914', '1880',\n",
       "       '1885', '1936', '1924', '1916', '1925', '1928', '1923', '1871',\n",
       "       '1913', '1934', '1920', '1935', '1905', '1931', '1933', '1906',\n",
       "       '1921', '1907', '1870', '1912', '1927', '1866', '1932', '1865',\n",
       "       '1902', '1895', '1776', '1875', '1926', '1911', '1917', '1896',\n",
       "       '1858', '1898', '1869', '1887', '1904', '1894', '1918', '2020',\n",
       "       '1908', '1899', '1903', '1860', '1886', '1901', '1850', '1856',\n",
       "       '1888', '1909', '1543', '1884', '1852', '1891', '1868', '1893',\n",
       "       '1853'], dtype=object)"
      ]
     },
     "execution_count": 222,
     "metadata": {},
     "output_type": "execute_result"
    }
   ],
   "source": [
    "df_filter['YEARBUILT'].unique()"
   ]
  },
  {
   "cell_type": "markdown",
   "id": "uWRIUG_kd7zj",
   "metadata": {
    "id": "uWRIUG_kd7zj"
   },
   "source": [
    "Replacing value $0$ to NaN."
   ]
  },
  {
   "cell_type": "code",
   "execution_count": 223,
   "id": "660dafcf",
   "metadata": {
    "id": "660dafcf"
   },
   "outputs": [],
   "source": [
    "df_filter['YEARBUILT'].replace(\n",
    "    [0],\n",
    "    [np.nan],\n",
    "    inplace=True\n",
    ")"
   ]
  },
  {
   "cell_type": "code",
   "execution_count": 224,
   "id": "Csfdri237g6r",
   "metadata": {
    "colab": {
     "base_uri": "https://localhost:8080/"
    },
    "id": "Csfdri237g6r",
    "outputId": "5e7bdd42-f7b4-4ed2-995d-b16ce7b4e052"
   },
   "outputs": [
    {
     "data": {
      "text/plain": [
       "DAMAGE               float64\n",
       "ROOFCONSTRUCTION     float64\n",
       "EAVES                float64\n",
       "VENTSCREEN           float64\n",
       "EXTERIORSIDING       float64\n",
       "WINDOWPANE           float64\n",
       "DECKPORCHONGRADE     float64\n",
       "DECKPORCHELEVATED    float64\n",
       "PATIOCOVER           float64\n",
       "FENCE                float64\n",
       "YEARBUILT             object\n",
       "LATITUDE             float64\n",
       "LONGITUDE            float64\n",
       "DISTANCE             float64\n",
       "dtype: object"
      ]
     },
     "execution_count": 224,
     "metadata": {},
     "output_type": "execute_result"
    }
   ],
   "source": [
    "df_filter.dtypes"
   ]
  },
  {
   "cell_type": "code",
   "execution_count": 225,
   "id": "6e0ed26b",
   "metadata": {
    "colab": {
     "base_uri": "https://localhost:8080/",
     "height": 383
    },
    "id": "6e0ed26b",
    "outputId": "efe27d77-7330-4e4d-9dc7-9463dd07df27"
   },
   "outputs": [
    {
     "data": {
      "text/html": [
       "\n",
       "  <div id=\"df-4f8bae5b-2ed0-4ae4-9702-5dc2718ceee5\" class=\"colab-df-container\">\n",
       "    <div>\n",
       "<style scoped>\n",
       "    .dataframe tbody tr th:only-of-type {\n",
       "        vertical-align: middle;\n",
       "    }\n",
       "\n",
       "    .dataframe tbody tr th {\n",
       "        vertical-align: top;\n",
       "    }\n",
       "\n",
       "    .dataframe thead th {\n",
       "        text-align: right;\n",
       "    }\n",
       "</style>\n",
       "<table border=\"1\" class=\"dataframe\">\n",
       "  <thead>\n",
       "    <tr style=\"text-align: right;\">\n",
       "      <th></th>\n",
       "      <th>DAMAGE</th>\n",
       "      <th>ROOFCONSTRUCTION</th>\n",
       "      <th>EAVES</th>\n",
       "      <th>VENTSCREEN</th>\n",
       "      <th>EXTERIORSIDING</th>\n",
       "      <th>WINDOWPANE</th>\n",
       "      <th>DECKPORCHONGRADE</th>\n",
       "      <th>DECKPORCHELEVATED</th>\n",
       "      <th>PATIOCOVER</th>\n",
       "      <th>FENCE</th>\n",
       "      <th>YEARBUILT</th>\n",
       "      <th>LATITUDE</th>\n",
       "      <th>LONGITUDE</th>\n",
       "      <th>DISTANCE</th>\n",
       "    </tr>\n",
       "  </thead>\n",
       "  <tbody>\n",
       "    <tr>\n",
       "      <th>3989</th>\n",
       "      <td>2.0</td>\n",
       "      <td>2.0</td>\n",
       "      <td>3.0</td>\n",
       "      <td>2.0</td>\n",
       "      <td>4.0</td>\n",
       "      <td>1.0</td>\n",
       "      <td>1.0</td>\n",
       "      <td>0.0</td>\n",
       "      <td>0.0</td>\n",
       "      <td>0.0</td>\n",
       "      <td>1977</td>\n",
       "      <td>39.736156</td>\n",
       "      <td>-121.687984</td>\n",
       "      <td>58.609392</td>\n",
       "    </tr>\n",
       "    <tr>\n",
       "      <th>79583</th>\n",
       "      <td>2.0</td>\n",
       "      <td>0.0</td>\n",
       "      <td>NaN</td>\n",
       "      <td>NaN</td>\n",
       "      <td>4.0</td>\n",
       "      <td>NaN</td>\n",
       "      <td>NaN</td>\n",
       "      <td>NaN</td>\n",
       "      <td>NaN</td>\n",
       "      <td>NaN</td>\n",
       "      <td>NaN</td>\n",
       "      <td>38.488343</td>\n",
       "      <td>-122.683839</td>\n",
       "      <td>407.757636</td>\n",
       "    </tr>\n",
       "    <tr>\n",
       "      <th>54801</th>\n",
       "      <td>2.0</td>\n",
       "      <td>0.0</td>\n",
       "      <td>NaN</td>\n",
       "      <td>4.0</td>\n",
       "      <td>0.0</td>\n",
       "      <td>0.0</td>\n",
       "      <td>0.0</td>\n",
       "      <td>0.0</td>\n",
       "      <td>0.0</td>\n",
       "      <td>0.0</td>\n",
       "      <td>NaN</td>\n",
       "      <td>37.366214</td>\n",
       "      <td>-121.552291</td>\n",
       "      <td>102.589166</td>\n",
       "    </tr>\n",
       "    <tr>\n",
       "      <th>38850</th>\n",
       "      <td>2.0</td>\n",
       "      <td>0.0</td>\n",
       "      <td>2.0</td>\n",
       "      <td>4.0</td>\n",
       "      <td>0.0</td>\n",
       "      <td>0.0</td>\n",
       "      <td>0.0</td>\n",
       "      <td>0.0</td>\n",
       "      <td>0.0</td>\n",
       "      <td>0.0</td>\n",
       "      <td>1956</td>\n",
       "      <td>39.754431</td>\n",
       "      <td>-121.599746</td>\n",
       "      <td>111.402965</td>\n",
       "    </tr>\n",
       "    <tr>\n",
       "      <th>48128</th>\n",
       "      <td>2.0</td>\n",
       "      <td>2.0</td>\n",
       "      <td>NaN</td>\n",
       "      <td>1.0</td>\n",
       "      <td>NaN</td>\n",
       "      <td>2.0</td>\n",
       "      <td>1.0</td>\n",
       "      <td>0.0</td>\n",
       "      <td>NaN</td>\n",
       "      <td>0.0</td>\n",
       "      <td>1988</td>\n",
       "      <td>38.506193</td>\n",
       "      <td>-122.612504</td>\n",
       "      <td>269.104884</td>\n",
       "    </tr>\n",
       "    <tr>\n",
       "      <th>39396</th>\n",
       "      <td>0.0</td>\n",
       "      <td>2.0</td>\n",
       "      <td>2.0</td>\n",
       "      <td>4.0</td>\n",
       "      <td>4.0</td>\n",
       "      <td>0.0</td>\n",
       "      <td>0.0</td>\n",
       "      <td>0.0</td>\n",
       "      <td>0.0</td>\n",
       "      <td>0.0</td>\n",
       "      <td>NaN</td>\n",
       "      <td>38.841535</td>\n",
       "      <td>-120.020011</td>\n",
       "      <td>64.493483</td>\n",
       "    </tr>\n",
       "    <tr>\n",
       "      <th>75164</th>\n",
       "      <td>0.0</td>\n",
       "      <td>NaN</td>\n",
       "      <td>NaN</td>\n",
       "      <td>NaN</td>\n",
       "      <td>NaN</td>\n",
       "      <td>NaN</td>\n",
       "      <td>NaN</td>\n",
       "      <td>NaN</td>\n",
       "      <td>NaN</td>\n",
       "      <td>NaN</td>\n",
       "      <td>NaN</td>\n",
       "      <td>37.101298</td>\n",
       "      <td>-122.278242</td>\n",
       "      <td>247.668606</td>\n",
       "    </tr>\n",
       "    <tr>\n",
       "      <th>62816</th>\n",
       "      <td>2.0</td>\n",
       "      <td>NaN</td>\n",
       "      <td>NaN</td>\n",
       "      <td>NaN</td>\n",
       "      <td>0.0</td>\n",
       "      <td>NaN</td>\n",
       "      <td>0.0</td>\n",
       "      <td>0.0</td>\n",
       "      <td>0.0</td>\n",
       "      <td>0.0</td>\n",
       "      <td>1975</td>\n",
       "      <td>34.075146</td>\n",
       "      <td>-118.925589</td>\n",
       "      <td>92.319404</td>\n",
       "    </tr>\n",
       "    <tr>\n",
       "      <th>5782</th>\n",
       "      <td>0.0</td>\n",
       "      <td>0.0</td>\n",
       "      <td>3.0</td>\n",
       "      <td>2.0</td>\n",
       "      <td>4.0</td>\n",
       "      <td>2.0</td>\n",
       "      <td>3.0</td>\n",
       "      <td>3.0</td>\n",
       "      <td>0.0</td>\n",
       "      <td>0.0</td>\n",
       "      <td>NaN</td>\n",
       "      <td>40.234273</td>\n",
       "      <td>-121.193497</td>\n",
       "      <td>144.546857</td>\n",
       "    </tr>\n",
       "    <tr>\n",
       "      <th>80381</th>\n",
       "      <td>2.0</td>\n",
       "      <td>0.0</td>\n",
       "      <td>NaN</td>\n",
       "      <td>NaN</td>\n",
       "      <td>0.0</td>\n",
       "      <td>NaN</td>\n",
       "      <td>NaN</td>\n",
       "      <td>NaN</td>\n",
       "      <td>NaN</td>\n",
       "      <td>NaN</td>\n",
       "      <td>NaN</td>\n",
       "      <td>39.296646</td>\n",
       "      <td>-123.218040</td>\n",
       "      <td>50.873155</td>\n",
       "    </tr>\n",
       "  </tbody>\n",
       "</table>\n",
       "</div>\n",
       "    <div class=\"colab-df-buttons\">\n",
       "\n",
       "  <div class=\"colab-df-container\">\n",
       "    <button class=\"colab-df-convert\" onclick=\"convertToInteractive('df-4f8bae5b-2ed0-4ae4-9702-5dc2718ceee5')\"\n",
       "            title=\"Convert this dataframe to an interactive table.\"\n",
       "            style=\"display:none;\">\n",
       "\n",
       "  <svg xmlns=\"http://www.w3.org/2000/svg\" height=\"24px\" viewBox=\"0 -960 960 960\">\n",
       "    <path d=\"M120-120v-720h720v720H120Zm60-500h600v-160H180v160Zm220 220h160v-160H400v160Zm0 220h160v-160H400v160ZM180-400h160v-160H180v160Zm440 0h160v-160H620v160ZM180-180h160v-160H180v160Zm440 0h160v-160H620v160Z\"/>\n",
       "  </svg>\n",
       "    </button>\n",
       "\n",
       "  <style>\n",
       "    .colab-df-container {\n",
       "      display:flex;\n",
       "      gap: 12px;\n",
       "    }\n",
       "\n",
       "    .colab-df-convert {\n",
       "      background-color: #E8F0FE;\n",
       "      border: none;\n",
       "      border-radius: 50%;\n",
       "      cursor: pointer;\n",
       "      display: none;\n",
       "      fill: #1967D2;\n",
       "      height: 32px;\n",
       "      padding: 0 0 0 0;\n",
       "      width: 32px;\n",
       "    }\n",
       "\n",
       "    .colab-df-convert:hover {\n",
       "      background-color: #E2EBFA;\n",
       "      box-shadow: 0px 1px 2px rgba(60, 64, 67, 0.3), 0px 1px 3px 1px rgba(60, 64, 67, 0.15);\n",
       "      fill: #174EA6;\n",
       "    }\n",
       "\n",
       "    .colab-df-buttons div {\n",
       "      margin-bottom: 4px;\n",
       "    }\n",
       "\n",
       "    [theme=dark] .colab-df-convert {\n",
       "      background-color: #3B4455;\n",
       "      fill: #D2E3FC;\n",
       "    }\n",
       "\n",
       "    [theme=dark] .colab-df-convert:hover {\n",
       "      background-color: #434B5C;\n",
       "      box-shadow: 0px 1px 3px 1px rgba(0, 0, 0, 0.15);\n",
       "      filter: drop-shadow(0px 1px 2px rgba(0, 0, 0, 0.3));\n",
       "      fill: #FFFFFF;\n",
       "    }\n",
       "  </style>\n",
       "\n",
       "    <script>\n",
       "      const buttonEl =\n",
       "        document.querySelector('#df-4f8bae5b-2ed0-4ae4-9702-5dc2718ceee5 button.colab-df-convert');\n",
       "      buttonEl.style.display =\n",
       "        google.colab.kernel.accessAllowed ? 'block' : 'none';\n",
       "\n",
       "      async function convertToInteractive(key) {\n",
       "        const element = document.querySelector('#df-4f8bae5b-2ed0-4ae4-9702-5dc2718ceee5');\n",
       "        const dataTable =\n",
       "          await google.colab.kernel.invokeFunction('convertToInteractive',\n",
       "                                                    [key], {});\n",
       "        if (!dataTable) return;\n",
       "\n",
       "        const docLinkHtml = 'Like what you see? Visit the ' +\n",
       "          '<a target=\"_blank\" href=https://colab.research.google.com/notebooks/data_table.ipynb>data table notebook</a>'\n",
       "          + ' to learn more about interactive tables.';\n",
       "        element.innerHTML = '';\n",
       "        dataTable['output_type'] = 'display_data';\n",
       "        await google.colab.output.renderOutput(dataTable, element);\n",
       "        const docLink = document.createElement('div');\n",
       "        docLink.innerHTML = docLinkHtml;\n",
       "        element.appendChild(docLink);\n",
       "      }\n",
       "    </script>\n",
       "  </div>\n",
       "\n",
       "\n",
       "<div id=\"df-ab077f8d-df69-4ce3-8e6e-b23fff8f60e0\">\n",
       "  <button class=\"colab-df-quickchart\" onclick=\"quickchart('df-ab077f8d-df69-4ce3-8e6e-b23fff8f60e0')\"\n",
       "            title=\"Suggest charts\"\n",
       "            style=\"display:none;\">\n",
       "\n",
       "<svg xmlns=\"http://www.w3.org/2000/svg\" height=\"24px\"viewBox=\"0 0 24 24\"\n",
       "     width=\"24px\">\n",
       "    <g>\n",
       "        <path d=\"M19 3H5c-1.1 0-2 .9-2 2v14c0 1.1.9 2 2 2h14c1.1 0 2-.9 2-2V5c0-1.1-.9-2-2-2zM9 17H7v-7h2v7zm4 0h-2V7h2v10zm4 0h-2v-4h2v4z\"/>\n",
       "    </g>\n",
       "</svg>\n",
       "  </button>\n",
       "\n",
       "<style>\n",
       "  .colab-df-quickchart {\n",
       "      --bg-color: #E8F0FE;\n",
       "      --fill-color: #1967D2;\n",
       "      --hover-bg-color: #E2EBFA;\n",
       "      --hover-fill-color: #174EA6;\n",
       "      --disabled-fill-color: #AAA;\n",
       "      --disabled-bg-color: #DDD;\n",
       "  }\n",
       "\n",
       "  [theme=dark] .colab-df-quickchart {\n",
       "      --bg-color: #3B4455;\n",
       "      --fill-color: #D2E3FC;\n",
       "      --hover-bg-color: #434B5C;\n",
       "      --hover-fill-color: #FFFFFF;\n",
       "      --disabled-bg-color: #3B4455;\n",
       "      --disabled-fill-color: #666;\n",
       "  }\n",
       "\n",
       "  .colab-df-quickchart {\n",
       "    background-color: var(--bg-color);\n",
       "    border: none;\n",
       "    border-radius: 50%;\n",
       "    cursor: pointer;\n",
       "    display: none;\n",
       "    fill: var(--fill-color);\n",
       "    height: 32px;\n",
       "    padding: 0;\n",
       "    width: 32px;\n",
       "  }\n",
       "\n",
       "  .colab-df-quickchart:hover {\n",
       "    background-color: var(--hover-bg-color);\n",
       "    box-shadow: 0 1px 2px rgba(60, 64, 67, 0.3), 0 1px 3px 1px rgba(60, 64, 67, 0.15);\n",
       "    fill: var(--button-hover-fill-color);\n",
       "  }\n",
       "\n",
       "  .colab-df-quickchart-complete:disabled,\n",
       "  .colab-df-quickchart-complete:disabled:hover {\n",
       "    background-color: var(--disabled-bg-color);\n",
       "    fill: var(--disabled-fill-color);\n",
       "    box-shadow: none;\n",
       "  }\n",
       "\n",
       "  .colab-df-spinner {\n",
       "    border: 2px solid var(--fill-color);\n",
       "    border-color: transparent;\n",
       "    border-bottom-color: var(--fill-color);\n",
       "    animation:\n",
       "      spin 1s steps(1) infinite;\n",
       "  }\n",
       "\n",
       "  @keyframes spin {\n",
       "    0% {\n",
       "      border-color: transparent;\n",
       "      border-bottom-color: var(--fill-color);\n",
       "      border-left-color: var(--fill-color);\n",
       "    }\n",
       "    20% {\n",
       "      border-color: transparent;\n",
       "      border-left-color: var(--fill-color);\n",
       "      border-top-color: var(--fill-color);\n",
       "    }\n",
       "    30% {\n",
       "      border-color: transparent;\n",
       "      border-left-color: var(--fill-color);\n",
       "      border-top-color: var(--fill-color);\n",
       "      border-right-color: var(--fill-color);\n",
       "    }\n",
       "    40% {\n",
       "      border-color: transparent;\n",
       "      border-right-color: var(--fill-color);\n",
       "      border-top-color: var(--fill-color);\n",
       "    }\n",
       "    60% {\n",
       "      border-color: transparent;\n",
       "      border-right-color: var(--fill-color);\n",
       "    }\n",
       "    80% {\n",
       "      border-color: transparent;\n",
       "      border-right-color: var(--fill-color);\n",
       "      border-bottom-color: var(--fill-color);\n",
       "    }\n",
       "    90% {\n",
       "      border-color: transparent;\n",
       "      border-bottom-color: var(--fill-color);\n",
       "    }\n",
       "  }\n",
       "</style>\n",
       "\n",
       "  <script>\n",
       "    async function quickchart(key) {\n",
       "      const quickchartButtonEl =\n",
       "        document.querySelector('#' + key + ' button');\n",
       "      quickchartButtonEl.disabled = true;  // To prevent multiple clicks.\n",
       "      quickchartButtonEl.classList.add('colab-df-spinner');\n",
       "      try {\n",
       "        const charts = await google.colab.kernel.invokeFunction(\n",
       "            'suggestCharts', [key], {});\n",
       "      } catch (error) {\n",
       "        console.error('Error during call to suggestCharts:', error);\n",
       "      }\n",
       "      quickchartButtonEl.classList.remove('colab-df-spinner');\n",
       "      quickchartButtonEl.classList.add('colab-df-quickchart-complete');\n",
       "    }\n",
       "    (() => {\n",
       "      let quickchartButtonEl =\n",
       "        document.querySelector('#df-ab077f8d-df69-4ce3-8e6e-b23fff8f60e0 button');\n",
       "      quickchartButtonEl.style.display =\n",
       "        google.colab.kernel.accessAllowed ? 'block' : 'none';\n",
       "    })();\n",
       "  </script>\n",
       "</div>\n",
       "    </div>\n",
       "  </div>\n"
      ],
      "text/plain": [
       "       DAMAGE  ROOFCONSTRUCTION  EAVES  VENTSCREEN  EXTERIORSIDING  \\\n",
       "3989      2.0               2.0    3.0         2.0             4.0   \n",
       "79583     2.0               0.0    NaN         NaN             4.0   \n",
       "54801     2.0               0.0    NaN         4.0             0.0   \n",
       "38850     2.0               0.0    2.0         4.0             0.0   \n",
       "48128     2.0               2.0    NaN         1.0             NaN   \n",
       "39396     0.0               2.0    2.0         4.0             4.0   \n",
       "75164     0.0               NaN    NaN         NaN             NaN   \n",
       "62816     2.0               NaN    NaN         NaN             0.0   \n",
       "5782      0.0               0.0    3.0         2.0             4.0   \n",
       "80381     2.0               0.0    NaN         NaN             0.0   \n",
       "\n",
       "       WINDOWPANE  DECKPORCHONGRADE  DECKPORCHELEVATED  PATIOCOVER  FENCE  \\\n",
       "3989          1.0               1.0                0.0         0.0    0.0   \n",
       "79583         NaN               NaN                NaN         NaN    NaN   \n",
       "54801         0.0               0.0                0.0         0.0    0.0   \n",
       "38850         0.0               0.0                0.0         0.0    0.0   \n",
       "48128         2.0               1.0                0.0         NaN    0.0   \n",
       "39396         0.0               0.0                0.0         0.0    0.0   \n",
       "75164         NaN               NaN                NaN         NaN    NaN   \n",
       "62816         NaN               0.0                0.0         0.0    0.0   \n",
       "5782          2.0               3.0                3.0         0.0    0.0   \n",
       "80381         NaN               NaN                NaN         NaN    NaN   \n",
       "\n",
       "      YEARBUILT   LATITUDE   LONGITUDE    DISTANCE  \n",
       "3989       1977  39.736156 -121.687984   58.609392  \n",
       "79583       NaN  38.488343 -122.683839  407.757636  \n",
       "54801       NaN  37.366214 -121.552291  102.589166  \n",
       "38850      1956  39.754431 -121.599746  111.402965  \n",
       "48128      1988  38.506193 -122.612504  269.104884  \n",
       "39396       NaN  38.841535 -120.020011   64.493483  \n",
       "75164       NaN  37.101298 -122.278242  247.668606  \n",
       "62816      1975  34.075146 -118.925589   92.319404  \n",
       "5782        NaN  40.234273 -121.193497  144.546857  \n",
       "80381       NaN  39.296646 -123.218040   50.873155  "
      ]
     },
     "execution_count": 225,
     "metadata": {},
     "output_type": "execute_result"
    }
   ],
   "source": [
    "df_filter.sample(10)"
   ]
  },
  {
   "cell_type": "code",
   "execution_count": null,
   "id": "pDtKzthlVEp9",
   "metadata": {
    "id": "pDtKzthlVEp9"
   },
   "outputs": [],
   "source": [
    "df_filter.to_pickle(DIR + 'dins_2017_2022.pkl')"
   ]
  },
  {
   "cell_type": "code",
   "execution_count": null,
   "id": "RsQ-5hVTuNab",
   "metadata": {
    "id": "RsQ-5hVTuNab"
   },
   "outputs": [],
   "source": []
  }
 ],
 "metadata": {
  "colab": {
   "provenance": []
  },
  "kernelspec": {
   "display_name": "Python 3 (ipykernel)",
   "language": "python",
   "name": "python3"
  },
  "language_info": {
   "codemirror_mode": {
    "name": "ipython",
    "version": 3
   },
   "file_extension": ".py",
   "mimetype": "text/x-python",
   "name": "python",
   "nbconvert_exporter": "python",
   "pygments_lexer": "ipython3",
   "version": "3.10.13"
  }
 },
 "nbformat": 4,
 "nbformat_minor": 5
}
