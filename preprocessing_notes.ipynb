{
 "cells": [
  {
   "cell_type": "code",
   "execution_count": 1,
   "id": "1dc2fdbd-2ed3-4ff4-b7c1-de4f9087182c",
   "metadata": {},
   "outputs": [],
   "source": [
    "import os\n",
    "import sys\n",
    "import glob\n",
    "import numpy as np\n",
    "import pandas as pd\n",
    "import matplotlib as mpl\n",
    "import matplotlib.pyplot as plt \n",
    "\n",
    "# ML related imports\n",
    "\n",
    "\n",
    "# AT utility imports\n",
    "from utils.directory_structure import DATA_DIR\n",
    "from preprocessing import read_split\n",
    "\n",
    "\n",
    "\n",
    "mpl.style.use(\"bmh\")\n",
    "%config InlineBackend.figure_format = 'retina'"
   ]
  },
  {
   "cell_type": "markdown",
   "id": "faede306-9d3f-4104-bbce-b483e53dada1",
   "metadata": {},
   "source": [
    "# Reading data\n",
    "\n",
    "Reading the `dins` original file, which is a heterogeneous tabular dataset. Then, conduct a simple data exploration on the distribution and nature of the features."
   ]
  },
  {
   "cell_type": "code",
   "execution_count": 3,
   "id": "3b1e93bb-6d9e-4fbf-af95-7852df9bc975",
   "metadata": {},
   "outputs": [],
   "source": [
    "X_train_full, X_test, y_train_full, y_test, col_names = read_split(\"dins_2017_2022.csv\")"
   ]
  },
  {
   "cell_type": "code",
   "execution_count": 4,
   "id": "e89009dc-b267-4ca9-9258-6aaa51a76fa6",
   "metadata": {},
   "outputs": [
    {
     "name": "stdout",
     "output_type": "stream",
     "text": [
      "<class 'pandas.core.frame.DataFrame'>\n",
      "Index: 69725 entries, 49272 to 49682\n",
      "Data columns (total 13 columns):\n",
      " #   Column             Non-Null Count  Dtype  \n",
      "---  ------             --------------  -----  \n",
      " 0   ROOFCONSTRUCTION   66280 non-null  object \n",
      " 1   EAVES              66220 non-null  object \n",
      " 2   VENTSCREEN         66180 non-null  object \n",
      " 3   EXTERIORSIDING     66267 non-null  object \n",
      " 4   WINDOWPANE         66212 non-null  object \n",
      " 5   DECKPORCHONGRADE   56244 non-null  object \n",
      " 6   DECKPORCHELEVATED  56242 non-null  object \n",
      " 7   PATIOCOVER         56238 non-null  object \n",
      " 8   FENCE              56242 non-null  object \n",
      " 9   YEARBUILT          42390 non-null  float64\n",
      " 10  LATITUDE           69725 non-null  float64\n",
      " 11  LONGITUDE          69725 non-null  float64\n",
      " 12  DISTANCE           69725 non-null  float64\n",
      "dtypes: float64(4), object(9)\n",
      "memory usage: 7.4+ MB\n"
     ]
    }
   ],
   "source": [
    "X_train_full.info()"
   ]
  },
  {
   "cell_type": "markdown",
   "id": "f5082684-17bb-448c-b8fe-f9a6ce0c2b33",
   "metadata": {},
   "source": [
    "# Data processing"
   ]
  },
  {
   "cell_type": "markdown",
   "id": "be31b6d6-bb5c-4ad7-894a-12203d0a32d0",
   "metadata": {},
   "source": [
    "The steps to data preprocessing is as follows:\n",
    "\n",
    "1. Separate the data into train and test cases with 20% going to the test set.\n",
    "2. Design imputation strategies, train and apply to the train set, and fit to the test set.\n",
    "3. To enable use of a variety of models:\n",
    "    - Normalize the numerical variables\n",
    "    - Conduct `OneHotEncoding` on categorical variables\n",
    "4. Resample to make the representation of all classes equal to in the train set.\n",
    "5. If necessary do a `PCA` conversion\n",
    "6. Put all steps into a pipelie under one function"
   ]
  },
  {
   "cell_type": "markdown",
   "id": "2f382f80-64e6-4633-927a-86f9b2cdd98a",
   "metadata": {},
   "source": [
    "## Imputation strategies\n",
    "\n",
    "The strategy differs for each type of `categorical` and `numerical` features and even within each category\n",
    "\n",
    "*DINS*: Adopted strategy for features with missing values in samples,\n",
    "\n",
    "- `ROOFCONSTRUCTION`  has `82817` non-null  objects: Nearest neighboor imputation.\n",
    "- `EAVES` has `82741` non-null  objects: Nearest neighboor imputation.\n",
    "- `VENTSCREEN` has `82692` non-null  objects: Nearest neighboor imputation.\n",
    "- `EXTERIORSIDING` has`82800` non-null  objects: Nearest neighboor imputation.\n",
    "- `WINDOWPANE` has `82732` non-null objects: Nearest neighboor imputation.\n",
    "- `DECKPORCHONGRADE` has `70291` non-null objects: Nearest neighboor imputation.\n",
    "- `DECKPORCHELEVATED` has `70290` non-null objects: Nearest neighboor imputation.\n",
    "- `PATIOCOVER` has `70286` non-null objects: Nearest neighboor imputation.\n",
    "- `FENCE` has `70289` non-null objects: Nearest neighboor imputation.\n",
    "- `YEARBUILT` has `53075` non-null objects: Nearest neighboor imputation.\n",
    "\n",
    "*Wildfire cases*: Adopted strategy for features with missing values in samples,\n",
    "\n",
    "- `ZIPCODE` has `15` non-null  floats: Reverse geoencoding can be used if this is useful. Potentially for future studies. \n",
    "- `ROOFCONSTR` has `19318`  non-null samples: Nearest neighboor imputation\n",
    "- `EAVES` has `19318`  non-null samples: Nearest neighboor imputation\n",
    "- `VENTSCREEN` has `19318`  non-null samples: Nearest neighboor imputation\n",
    "- `EXTERIORSI` has `19318`  non-null samples: Nearest neighboor imputation\n",
    "- `WINDOWPANE` has `19318`  non-null samples: Nearest neighboor imputation\n",
    "- `DECKPORCHO` has `19318`  non-null samples: Nearest neighboor imputation\n",
    "- `DECKPORCHE` has `19318`  non-null samples: Nearest neighboor imputation\n",
    "- `PATIOCOVER` has `19318`  non-null samples: Nearest neighboor imputation\n",
    "- `FENCEATTAC` has `19317`  non-null samples: Nearest neighboor imputation\n",
    "- `YEARBUILT ` has `22501`  non-null samples: Nearest neighboor imputation or median\n",
    "- `VSD` has `3504 ` non-null  samples: Aggregate (mean, median, etc)\n",
    "- `EMBER` has `11549`  non-null samples: Aggregate (mean, median, etc) potentially with KNN\n",
    "- `FLAME` has `14578`  non-null samples: Aggregate (mean, median, etc) potentially with KNN \n"
   ]
  },
  {
   "cell_type": "code",
   "execution_count": null,
   "id": "c645fb3e-d030-4e56-85ee-8b50f6e33d39",
   "metadata": {},
   "outputs": [],
   "source": []
  },
  {
   "cell_type": "code",
   "execution_count": null,
   "id": "977d375e-1803-4405-b3a0-b291d67f9c1e",
   "metadata": {},
   "outputs": [],
   "source": []
  },
  {
   "cell_type": "code",
   "execution_count": null,
   "id": "28b1a119-3266-412c-afbb-55b911341fc1",
   "metadata": {},
   "outputs": [],
   "source": []
  },
  {
   "cell_type": "code",
   "execution_count": null,
   "id": "96586f3b-e2de-42ab-aa20-da0b83189b51",
   "metadata": {},
   "outputs": [],
   "source": []
  },
  {
   "cell_type": "code",
   "execution_count": null,
   "id": "51dda300-6a6d-432f-9549-eda4b0da3639",
   "metadata": {},
   "outputs": [],
   "source": []
  }
 ],
 "metadata": {
  "kernelspec": {
   "display_name": "Python 3 (ipykernel)",
   "language": "python",
   "name": "python3"
  },
  "language_info": {
   "codemirror_mode": {
    "name": "ipython",
    "version": 3
   },
   "file_extension": ".py",
   "mimetype": "text/x-python",
   "name": "python",
   "nbconvert_exporter": "python",
   "pygments_lexer": "ipython3",
   "version": "3.10.13"
  }
 },
 "nbformat": 4,
 "nbformat_minor": 5
}
