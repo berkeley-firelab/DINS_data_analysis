{
 "cells": [
  {
   "cell_type": "code",
   "execution_count": 1,
   "id": "1dc2fdbd-2ed3-4ff4-b7c1-de4f9087182c",
   "metadata": {},
   "outputs": [],
   "source": [
    "import os\n",
    "import sys\n",
    "import glob\n",
    "import pickle\n",
    "\n",
    "import numpy as np\n",
    "import pandas as pd\n",
    "import matplotlib as mpl\n",
    "import matplotlib.pyplot as plt\n",
    "import seaborn as sns\n",
    "\n",
    "# ML related imports\n",
    "from sklearn.metrics import pairwise_distances_argmin\n",
    "from sklearn.metrics.pairwise import haversine_distances\n",
    "from imblearn.combine import SMOTETomek\n",
    "from imblearn.over_sampling import KMeansSMOTE\n",
    "\n",
    "\n",
    "# AT utility imports\n",
    "from utils.directory_structure import DATA_DIR, OUTPUT_DIR\n",
    "from utils.preprocessing import data_preprocessing_pipeline\n",
    "\n",
    "\n",
    "mpl.style.use(\"bmh\")\n",
    "%config InlineBackend.figure_format = 'retina'"
   ]
  },
  {
   "cell_type": "markdown",
   "id": "b1811f99-2444-4013-a301-b049f13936db",
   "metadata": {},
   "source": [
    "# Data preprocessing pipeline"
   ]
  },
  {
   "cell_type": "code",
   "execution_count": 4,
   "id": "9c1c922a-7f2a-4f83-8ecb-e225620fc23f",
   "metadata": {},
   "outputs": [
    {
     "name": "stdout",
     "output_type": "stream",
     "text": [
      "/home/maryamz/DINS_data_preparation/data/WUI_fires/Tubbs_original.csv\n",
      "Read, feature engineer, and split between train and test\n",
      "Imputation based on location information\n",
      "Encoding\n",
      "Normalize the required features and drop extra information!\n",
      "/home/maryamz/DINS_data_preparation/data/WUI_fires/Camp_original.csv\n",
      "Read, feature engineer, and split between train and test\n",
      "Imputation based on location information\n"
     ]
    }
   ],
   "source": [
    "## creating encoded features for binary classification\n",
    "case_list = [\"Tubbs\", \"Camp\", \"Glass\", \"Kincade\", \"Thomas\", \"dins_2017_2022\"]\n",
    "\n",
    "for case in case_list:\n",
    "    _ = data_preprocessing_pipeline(case, \n",
    "                                    renew_data=True, \n",
    "                                    encode_data=True, \n",
    "                                    scale_data=True, \n",
    "                                    task_type=\"binary\")"
   ]
  },
  {
   "cell_type": "code",
   "execution_count": 3,
   "id": "d7b92468-5868-4b7c-bfde-ada76df7cfd5",
   "metadata": {},
   "outputs": [],
   "source": [
    "# data_file_path = os.path.join(DATA_DIR, \"dins_2017_2022.csv\")\n",
    "# missing_values = [\"\", \"NA\", \"na\", \"n/a\", \"N/A\", \"--\", \"nan\", \"Unknown\"]\n",
    "# df = pd.read_csv(data_file_path, delimiter=\",\", na_values=missing_values)"
   ]
  },
  {
   "cell_type": "code",
   "execution_count": 3,
   "id": "53183ce7-870d-4d83-8d29-d3feee877cee",
   "metadata": {},
   "outputs": [
    {
     "name": "stdout",
     "output_type": "stream",
     "text": [
      "/home/maryamz/DINS_data_preparation/data/WUI_fires/Tubbs_original.csv\n",
      "Read, feature engineer, and split between train and test\n",
      "Imputation based on location information\n",
      "No encoding for the features!\n",
      "Normalize the required features and drop extra information!\n"
     ]
    }
   ],
   "source": [
    "## creating features for binary classification without encoding\n",
    "case_list = [\"concatenated_df\"]\n",
    "\n",
    "for case in case_list:\n",
    "    _ = data_preprocessing_pipeline(case, \n",
    "                                    renew_data=True, \n",
    "                                    encode_data=True, \n",
    "                                    scale_data=True, \n",
    "                                    task_type=\"binary\")"
   ]
  },
  {
   "cell_type": "code",
   "execution_count": 10,
   "id": "2f78cc0e-4f9c-4508-9e6c-40442185d29e",
   "metadata": {},
   "outputs": [
    {
     "name": "stdout",
     "output_type": "stream",
     "text": [
      "/home/maryamz/DINS_data_preparation/data/dins_2017_2022.csv\n",
      "Read, feature engineer, and split between train and test\n"
     ]
    },
    {
     "name": "stderr",
     "output_type": "stream",
     "text": [
      "/home/maryamz/DINS_data_preparation/utils/preprocessing.py:85: DtypeWarning: Columns (2) have mixed types. Specify dtype option on import or set low_memory=False.\n",
      "  df = pd.read_csv(data_file_path, delimiter=\",\", na_values=missing_values)\n"
     ]
    },
    {
     "name": "stdout",
     "output_type": "stream",
     "text": [
      "Imputation based on location information\n",
      "No encoding for the features!\n",
      "Normalize the required features and drop extra information!\n"
     ]
    }
   ],
   "source": [
    "## creating non-encoded features for binary classification\n",
    "case_list = [\"dins_2017_2022\"]\n",
    "\n",
    "for case in case_list:\n",
    "    _ = data_preprocessing_pipeline(case, \n",
    "                                    renew_data=True, \n",
    "                                    encode_data=False, \n",
    "                                    scale_data=True, \n",
    "                                    task_type=\"binary\")"
   ]
  },
  {
   "cell_type": "code",
   "execution_count": null,
   "id": "593e5536-236a-4afd-8c4d-cd5354c56e1f",
   "metadata": {},
   "outputs": [],
   "source": []
  },
  {
   "cell_type": "code",
   "execution_count": null,
   "id": "223d058f-743a-4cce-96e7-43fb75fd9ba8",
   "metadata": {},
   "outputs": [],
   "source": []
  },
  {
   "cell_type": "code",
   "execution_count": null,
   "id": "f4e78563-0047-45d4-9827-e6915a629571",
   "metadata": {},
   "outputs": [],
   "source": []
  },
  {
   "cell_type": "code",
   "execution_count": null,
   "id": "9a20081c-921e-48ce-89a9-298ff693ec9c",
   "metadata": {},
   "outputs": [],
   "source": []
  },
  {
   "cell_type": "code",
   "execution_count": null,
   "id": "b195e2e8-653a-4d6c-a75a-b5f563b7a346",
   "metadata": {},
   "outputs": [],
   "source": []
  }
 ],
 "metadata": {
  "kernelspec": {
   "display_name": "Python 3 (ipykernel)",
   "language": "python",
   "name": "python3"
  },
  "language_info": {
   "codemirror_mode": {
    "name": "ipython",
    "version": 3
   },
   "file_extension": ".py",
   "mimetype": "text/x-python",
   "name": "python",
   "nbconvert_exporter": "python",
   "pygments_lexer": "ipython3",
   "version": "3.10.12"
  }
 },
 "nbformat": 4,
 "nbformat_minor": 5
}
