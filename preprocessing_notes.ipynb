{
 "cells": [
  {
   "cell_type": "code",
   "execution_count": 1,
   "id": "1dc2fdbd-2ed3-4ff4-b7c1-de4f9087182c",
   "metadata": {},
   "outputs": [],
   "source": [
    "import os\n",
    "import sys\n",
    "import glob\n",
    "import pickle\n",
    "\n",
    "import numpy as np\n",
    "import pandas as pd\n",
    "import matplotlib as mpl\n",
    "import matplotlib.pyplot as plt\n",
    "import seaborn as sns\n",
    "\n",
    "# ML related imports\n",
    "from sklearn.metrics import pairwise_distances_argmin\n",
    "from sklearn.metrics.pairwise import haversine_distances\n",
    "from imblearn.combine import SMOTETomek\n",
    "from imblearn.over_sampling import KMeansSMOTE\n",
    "\n",
    "\n",
    "# AT utility imports\n",
    "from utils.directory_structure import DATA_DIR, OUTPUT_DIR\n",
    "from utils.preprocessing import data_preprocessing_pipeline\n",
    "\n",
    "\n",
    "mpl.style.use(\"bmh\")\n",
    "%config InlineBackend.figure_format = 'retina'"
   ]
  },
  {
   "cell_type": "markdown",
   "id": "b1811f99-2444-4013-a301-b049f13936db",
   "metadata": {},
   "source": [
    "# Testing data preprocessing pipeline"
   ]
  },
  {
   "cell_type": "code",
   "execution_count": 2,
   "id": "9c1c922a-7f2a-4f83-8ecb-e225620fc23f",
   "metadata": {},
   "outputs": [],
   "source": [
    "data_dict_cat_boost = data_preprocessing_pipeline(\"dins_2017_2022\", new_features=False, encode_data=False)\n",
    "data_dict = data_preprocessing_pipeline(\"dins_2017_2022\", new_features=False, encode_data=True)"
   ]
  },
  {
   "cell_type": "markdown",
   "id": "ecae07fd-6c21-45bd-a7fb-73fd1146aa93",
   "metadata": {},
   "source": [
    "# Check the class balance in the train set\n",
    "\n",
    "There is strong imbalance toward the `Destroyed` and `No Damage` classes and the rest are minority! As a result a class balance startegy is needed.\n",
    "It is usually a good idea to apply this as part of the training pipeline as the hyperparameters of the resampling methods can affect results."
   ]
  },
  {
   "cell_type": "code",
   "execution_count": 10,
   "id": "e20789ba-a620-4ab0-beba-f1fdc78cb41e",
   "metadata": {},
   "outputs": [
    {
     "data": {
      "text/plain": [
       "DAMAGE          \n",
       "Destroyed (>50%)    0.591660\n",
       "No Damage           0.351071\n",
       "Affected (1-9%)     0.040876\n",
       "Minor (10-25%)      0.009694\n",
       "Major (26-50%)      0.004788\n",
       "Inaccessible        0.001911\n",
       "Name: proportion, dtype: float64"
      ]
     },
     "execution_count": 10,
     "metadata": {},
     "output_type": "execute_result"
    }
   ],
   "source": [
    "y_train = data_dict[\"y_train\"]\n",
    "y_ohe = data_dict[\"y_encoder\"]\n",
    "\n",
    "y_train = pd.DataFrame(y_ohe.inverse_transform(y_train), columns=[\"DAMAGE\"])\n",
    "100 * y_train.value_counts(normalize=True) # percentage of each damage class"
   ]
  },
  {
   "cell_type": "code",
   "execution_count": null,
   "id": "9e2cc2d4-4db9-41e3-9b39-b1631502d465",
   "metadata": {},
   "outputs": [],
   "source": []
  }
 ],
 "metadata": {
  "kernelspec": {
   "display_name": "dins",
   "language": "python",
   "name": "dins"
  },
  "language_info": {
   "codemirror_mode": {
    "name": "ipython",
    "version": 3
   },
   "file_extension": ".py",
   "mimetype": "text/x-python",
   "name": "python",
   "nbconvert_exporter": "python",
   "pygments_lexer": "ipython3",
   "version": "3.10.13"
  }
 },
 "nbformat": 4,
 "nbformat_minor": 5
}
